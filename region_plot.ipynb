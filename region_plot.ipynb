{
 "cells": [
  {
   "cell_type": "markdown",
   "metadata": {},
   "source": [
    "# Utils\n"
   ]
  },
  {
   "cell_type": "code",
   "execution_count": 177,
   "metadata": {},
   "outputs": [],
   "source": [
    "import math\n",
    "from pathlib import Path\n",
    "from typing import Callable, Optional\n",
    "\n",
    "import numpy as np\n",
    "import plotly.graph_objects as go\n",
    "\n",
    "\n",
    "def _plot_metric(\n",
    "    data: dict[dict[int]],\n",
    "    metrics: dict[float],\n",
    "    *,\n",
    "    stage_metric_stats: np.array,\n",
    "    metric_func: Callable,\n",
    "    std_delta_func: Callable,\n",
    "    title: str,\n",
    "    n_subjects: int,\n",
    "    exp_metrics: dict[float] = None,\n",
    "    stage_metrics: dict[float] = None,\n",
    "    threshold_zones: bool = False,\n",
    "    out_dir: Optional[Path] = None,\n",
    "    save_name: Optional[str] = None,\n",
    "    show: bool = True,\n",
    "):\n",
    "    # Extract x, y, and intensity values\n",
    "    data = data.copy()\n",
    "    x = sorted({key for subdict in data.values() for key in subdict.keys()})\n",
    "    y = sorted(data.keys())\n",
    "    z = np.zeros((len(y), len(x)))\n",
    "\n",
    "    # Populate the intensity grid\n",
    "    for yi, y_key in enumerate(y):\n",
    "        for xi, x_key in enumerate(x):\n",
    "            z[yi, xi] = metrics.get(f\"r{y_key}-p{x_key}\", np.nan)\n",
    "\n",
    "    # Compute metric transformation\n",
    "    delta = metric_func(z, metrics)\n",
    "    fp64_value = metric_func(stage_metric_stats[\"binary64\"], stage_metric_stats)\n",
    "    all_delta = metric_func(\n",
    "        np.array([x for y in stage_metrics.values() for x in y]), stage_metric_stats\n",
    "    )\n",
    "    max_abs_diff = np.nanmax(np.abs(all_delta - fp64_value))\n",
    "    zmin = fp64_value - max_abs_diff\n",
    "    zmax = fp64_value + max_abs_diff\n",
    "    print(\n",
    "        \",\".join(\n",
    "            [\n",
    "                f\"zmin: {zmin:.4f}\",\n",
    "                f\"zmax: {zmax:.4f}\",\n",
    "                f\"ref_value: {fp64_value:.4f}\",\n",
    "                f\"max_abs_diff: {max_abs_diff:.4f}\",\n",
    "            ]\n",
    "        )\n",
    "    )\n",
    "\n",
    "    # Convert NaN to 1 to display with colorscale\n",
    "    masked_failed = np.where(np.isnan(delta), 1, np.nan)\n",
    "    delta = np.where(np.isnan(delta), np.nan, delta)\n",
    "\n",
    "    if exp_metrics:\n",
    "        std_delta = std_delta_func(x, y, exp_metrics)\n",
    "        formatter = np.vectorize(lambda d, s: f\"{d:.3f}<br>± {s:.3f}\")\n",
    "        formatted = formatter(delta, std_delta)\n",
    "    else:\n",
    "        formatter = np.vectorize(lambda d: f\"{d:.3f}\")\n",
    "        formatted = formatter(delta)\n",
    "\n",
    "    text_labels = np.where(delta <= 1, formatted, \"\")\n",
    "\n",
    "    # Define custom colorscale\n",
    "    colorscale = [\n",
    "        [0, \"green\"],\n",
    "        [0.5, \"white\"],\n",
    "        [1, \"red\"],\n",
    "    ]\n",
    "\n",
    "    # Create heatmap\n",
    "    normal_trace = go.Heatmap(\n",
    "        z=delta,\n",
    "        x=x,\n",
    "        y=y,\n",
    "        colorscale=colorscale,\n",
    "        zmin=zmin,\n",
    "        zmax=zmax,\n",
    "        zmid=fp64_value,\n",
    "        # colorbar=dict(title=\"Metric\"),\n",
    "        text=text_labels,\n",
    "        texttemplate=\"%{text}\",\n",
    "    )\n",
    "    failed_trace = go.Heatmap(\n",
    "        z=masked_failed,\n",
    "        x=x,\n",
    "        y=y,\n",
    "        colorscale=[[0, \"grey\"], [1, \"grey\"]],\n",
    "        showscale=False,\n",
    "    )\n",
    "    fig = go.Figure(data=[failed_trace, normal_trace])\n",
    "\n",
    "    # Annotate failures\n",
    "    for i in y:\n",
    "        for j in x:\n",
    "            try:\n",
    "                cell_value = data[i][j]\n",
    "            except KeyError:\n",
    "                continue\n",
    "\n",
    "            if cell_value > 0 and cell_value < n_subjects:\n",
    "                fig.add_annotation(\n",
    "                    x=j,\n",
    "                    y=i - 0.4,  # Place the star at the top edge of the cell\n",
    "                    text=f\"⚠ Err: {cell_value}/{n_subjects}\",  # Star symbol\n",
    "                    showarrow=False,\n",
    "                    font=dict(color=\"black\"),\n",
    "                    xanchor=\"center\",\n",
    "                    yanchor=\"bottom\",  # Align the bottom of the text with the coordinate\n",
    "                )\n",
    "\n",
    "    # Annotate hardware data format\n",
    "    ## bfloat16\n",
    "    fig.add_annotation(\n",
    "        x=7,\n",
    "        y=8.25,\n",
    "        text=\"bfloat16\",\n",
    "        showarrow=False,\n",
    "        font=dict(color=\"black\"),\n",
    "        xanchor=\"center\",\n",
    "        yanchor=\"bottom\",\n",
    "    )\n",
    "    ## float32\n",
    "    fig.add_annotation(\n",
    "        x=23,\n",
    "        y=8.25,\n",
    "        text=\"float32\",\n",
    "        showarrow=False,\n",
    "        font=dict(color=\"black\"),\n",
    "        xanchor=\"center\",\n",
    "        yanchor=\"bottom\",\n",
    "    )\n",
    "\n",
    "    # Threshold annotations\n",
    "    if threshold_zones:\n",
    "        for threshold in [\n",
    "            (6.5, 9.5),\n",
    "            (9.5, 13.5),\n",
    "            (13.5, 16.5),\n",
    "            (16.5, 19.5),\n",
    "            (19.5, 23.5),\n",
    "        ]:\n",
    "            threshold_exp = math.floor(math.log10(2) * math.floor(threshold[1])) - 1\n",
    "            fig.add_vrect(\n",
    "                x0=threshold[0],\n",
    "                x1=threshold[1],\n",
    "                line_width=3,\n",
    "                label=dict(\n",
    "                    text=f\"Threshold: 1-e{threshold_exp}\",\n",
    "                    textposition=\"top center\",\n",
    "                    font=dict(size=20, family=\"Times New Roman\"),\n",
    "                ),\n",
    "            )\n",
    "    # Style & Layout\n",
    "    fig.update_layout(\n",
    "        title=title,\n",
    "        xaxis=dict(title=\"Precision (# of bits)\", tickvals=x, ticks=\"outside\"),\n",
    "        yaxis=dict(title=\"Range (# of bits)\", tickvals=y, ticks=\"outside\"),\n",
    "        width=1600,\n",
    "        height=400,\n",
    "    )\n",
    "\n",
    "    if show:\n",
    "        fig.show()\n",
    "\n",
    "    if out_dir and save_name:\n",
    "        out_dir.mkdir(exist_ok=True, parents=True)\n",
    "        fig.write_html(out_dir / f\"{save_name}.html\")\n",
    "        fig.write_image(out_dir / f\"{save_name}.png\")"
   ]
  },
  {
   "cell_type": "code",
   "execution_count": 178,
   "metadata": {},
   "outputs": [],
   "source": [
    "def plot_metric_value(\n",
    "    data: dict[dict[int]],\n",
    "    metrics: dict[float],\n",
    "    *,\n",
    "    stage_metric_stats: np.array,\n",
    "    title: str,\n",
    "    n_subjects: int,\n",
    "    exp_metrics: dict[float] = None,\n",
    "    stage_metrics: dict[float] = None,\n",
    "    out_dir: Optional[Path] = None,\n",
    "    save_name: Optional[str] = None,\n",
    "    show: bool = True,\n",
    "):\n",
    "    def _metric_func(z, metrics):\n",
    "        return z\n",
    "\n",
    "    def _std_delta_func(x, y, exp_metrics):\n",
    "        std_delta = np.zeros((len(y), len(x)))\n",
    "        for yi, y_key in enumerate(y):\n",
    "            for xi, x_key in enumerate(x):\n",
    "                std_delta[yi, xi] = np.nanstd(\n",
    "                    np.asarray(exp_metrics.get(f\"r{y_key}-p{x_key}\", np.nan))\n",
    "                )\n",
    "        return std_delta\n",
    "\n",
    "    _plot_metric(\n",
    "        data,\n",
    "        metrics,\n",
    "        stage_metric_stats=stage_metric_stats,\n",
    "        title=title,\n",
    "        n_subjects=n_subjects,\n",
    "        exp_metrics=exp_metrics,\n",
    "        stage_metrics=stage_metrics,\n",
    "        metric_func=_metric_func,\n",
    "        std_delta_func=_std_delta_func,\n",
    "        out_dir=out_dir,\n",
    "        save_name=save_name,\n",
    "        show=show,\n",
    "    )"
   ]
  },
  {
   "cell_type": "code",
   "execution_count": 179,
   "metadata": {},
   "outputs": [],
   "source": [
    "def plot_metric_diff(\n",
    "    data: dict[dict[int]],\n",
    "    metrics: dict[float],\n",
    "    *,\n",
    "    stage_metric_stats: np.array,\n",
    "    title: str,\n",
    "    n_subjects: int,\n",
    "    exp_metrics: dict[float] = None,\n",
    "    stage_metrics: dict[float] = None,\n",
    "    out_dir: Optional[Path] = None,\n",
    "    save_name: Optional[str] = None,\n",
    "    show: bool = True,\n",
    "):\n",
    "    def _metric_func(z, metrics):\n",
    "        return z - metrics[\"binary64\"]\n",
    "\n",
    "    def _std_delta_func(x, y, exp_metrics):\n",
    "        std_delta = np.zeros((len(y), len(x)))\n",
    "        for yi, y_key in enumerate(y):\n",
    "            for xi, x_key in enumerate(x):\n",
    "                std_delta[yi, xi] = np.nanstd(\n",
    "                    np.asarray(exp_metrics.get(f\"r{y_key}-p{x_key}\", np.nan))\n",
    "                    - np.asarray(exp_metrics[\"binary64\"])\n",
    "                )\n",
    "        return std_delta\n",
    "\n",
    "    _plot_metric(\n",
    "        data,\n",
    "        metrics,\n",
    "        stage_metric_stats=stage_metric_stats,\n",
    "        title=title,\n",
    "        n_subjects=n_subjects,\n",
    "        exp_metrics=exp_metrics,\n",
    "        stage_metrics=stage_metrics,\n",
    "        metric_func=_metric_func,\n",
    "        std_delta_func=_std_delta_func,\n",
    "        out_dir=out_dir,\n",
    "        save_name=save_name,\n",
    "        show=show,\n",
    "    )"
   ]
  },
  {
   "cell_type": "code",
   "execution_count": 180,
   "metadata": {},
   "outputs": [],
   "source": [
    "def plot_metric_rel(\n",
    "    data: dict[dict[int]],\n",
    "    metrics: dict[float],\n",
    "    *,\n",
    "    stage_metric_stats: np.array,\n",
    "    title: str,\n",
    "    n_subjects: int,\n",
    "    exp_metrics: dict[float] = None,\n",
    "    stage_metrics: dict[float] = None,\n",
    "    out_dir: Optional[Path] = None,\n",
    "    save_name: Optional[str] = None,\n",
    "    show: bool = True,\n",
    "):\n",
    "    def _metric_func(z, metrics):\n",
    "        return (z - metrics[\"binary64\"]) / np.abs(metrics[\"binary64\"])\n",
    "\n",
    "    def _std_delta_func(x, y, exp_metrics):\n",
    "        std_delta = np.zeros((len(y), len(x)))\n",
    "        for yi, y_key in enumerate(y):\n",
    "            for xi, x_key in enumerate(x):\n",
    "                std_delta[yi, xi] = np.nanstd(\n",
    "                    np.abs(\n",
    "                        np.asarray(exp_metrics.get(f\"r{y_key}-p{x_key}\", np.nan))\n",
    "                        - np.asarray(exp_metrics[\"binary64\"])\n",
    "                    )\n",
    "                    / np.abs(exp_metrics[\"binary64\"])\n",
    "                )\n",
    "        return std_delta\n",
    "\n",
    "    _plot_metric(\n",
    "        data,\n",
    "        metrics,\n",
    "        stage_metric_stats=stage_metric_stats,\n",
    "        title=title,\n",
    "        n_subjects=n_subjects,\n",
    "        exp_metrics=exp_metrics,\n",
    "        stage_metrics=stage_metrics,\n",
    "        metric_func=_metric_func,\n",
    "        std_delta_func=_std_delta_func,\n",
    "        out_dir=out_dir,\n",
    "        save_name=save_name,\n",
    "        show=show,\n",
    "    )"
   ]
  },
  {
   "cell_type": "code",
   "execution_count": 154,
   "metadata": {},
   "outputs": [],
   "source": [
    "from pathlib import Path\n",
    "from typing import Optional\n",
    "\n",
    "import plotly.express as px\n",
    "import plotly.graph_objects as go\n",
    "from plotly.subplots import make_subplots\n",
    "\n",
    "\n",
    "# Avoid bokeh dependency, by hardcoding the colorblind8 palette\n",
    "Colorblind8 = (\n",
    "    \"#0072B2\",\n",
    "    \"#E69F00\",\n",
    "    \"#F0E442\",\n",
    "    \"#009E73\",\n",
    "    \"#56B4E9\",\n",
    "    \"#D55E00\",\n",
    "    \"#CC79A7\",\n",
    "    \"#000000\",\n",
    ")\n",
    "\n",
    "\n",
    "def _make_agg_figure(\n",
    "    data,\n",
    "    *,\n",
    "    out_dir: Optional[Path] = None,\n",
    "    y_value: str = None,\n",
    "    y_log: bool = False,\n",
    "    show: bool = False,\n",
    "    data_formats: list[str] = None,\n",
    "    exp_id: Optional[str] = None,\n",
    "):\n",
    "    # Unique values for levels and data_formats to determine grid size\n",
    "    levels = data[\"level\"].unique()\n",
    "    stages = data[\"stage\"].unique()\n",
    "    if not data_formats:\n",
    "        data_formats = data[\"data_format\"].unique()\n",
    "\n",
    "    # Creating the subplot grid with independent x-axes\n",
    "    fig = make_subplots(\n",
    "        rows=len(stages),\n",
    "        cols=len(levels),\n",
    "        shared_xaxes=False,\n",
    "        shared_yaxes=True,\n",
    "        horizontal_spacing=0.01,\n",
    "        vertical_spacing=0.05,\n",
    "    )\n",
    "\n",
    "    # Loop through each level and data_format to add traces to the respective subplot\n",
    "    for l, level in enumerate(levels, 1):\n",
    "        for s, stage in enumerate(stages, 1):\n",
    "            for e, data_format in enumerate(data_formats):\n",
    "                for i, subject in enumerate(data[\"subject\"].unique()):\n",
    "                    subset = data[\n",
    "                        (data[\"level\"] == level)\n",
    "                        & (data[\"stage\"] == stage)\n",
    "                        & (data[\"data_format\"] == data_format)\n",
    "                        & (data[\"subject\"] == subject)\n",
    "                    ]\n",
    "\n",
    "                    # Line color\n",
    "                    color = px.colors.qualitative.Dark24[\n",
    "                        e % len(px.colors.qualitative.Dark24)\n",
    "                    ]\n",
    "\n",
    "                    if data_format == \"binary64\":\n",
    "                        color = \"black\"\n",
    "                        dash = \"dot\"\n",
    "                    else:\n",
    "                        color = f\"rgba{px.colors.hex_to_rgb(color) + (0.4,)}\"\n",
    "                        dash = \"solid\"\n",
    "\n",
    "                    fig.add_trace(\n",
    "                        go.Scatter(\n",
    "                            x=subset[\"iterations\"],\n",
    "                            y=subset[y_value],\n",
    "                            name=data_format,\n",
    "                            mode=\"lines\",\n",
    "                            fillcolor=color,\n",
    "                            line=dict(color=color, dash=dash),\n",
    "                            legendgroup=data_format,\n",
    "                            showlegend=(\n",
    "                                True if (l == 1 and s == 1 and i == 0) else False\n",
    "                            ),\n",
    "                            hovertemplate=f\"Subject: {subject}<br>Iteration: %{{x}}<br>{y_value}: %{{y}}\",\n",
    "                        ),\n",
    "                        row=s,\n",
    "                        col=l,\n",
    "                    )\n",
    "\n",
    "    for i, sigma in enumerate(list(range(len(levels)))[::-1], 1):\n",
    "        fig.add_annotation(\n",
    "            text=f\"Sigma: {sigma}\",\n",
    "            xref=\"x domain\",\n",
    "            yref=\"y domain\",\n",
    "            x=0.5,\n",
    "            y=1.05,\n",
    "            xanchor=\"center\",\n",
    "            yanchor=\"bottom\",\n",
    "            row=1,\n",
    "            col=i,\n",
    "            showarrow=False,\n",
    "            font=dict(size=14, color=\"black\"),\n",
    "        )\n",
    "\n",
    "    for i, stage in enumerate([\"Rigid (MI)\", \"Affine (MI)\", \"SyN (CC)\"], 1):\n",
    "        fig.add_annotation(\n",
    "            text=stage,\n",
    "            xref=\"x domain\",\n",
    "            yref=\"y domain\",\n",
    "            x=1.05,\n",
    "            y=0.4,\n",
    "            xanchor=\"center\",\n",
    "            yanchor=\"bottom\",\n",
    "            textangle=90,\n",
    "            row=i,\n",
    "            col=len(levels),\n",
    "            showarrow=False,\n",
    "            font=dict(size=14, color=\"black\"),\n",
    "        )\n",
    "\n",
    "    fig.update_xaxes(title_text=\"Iterations\", row=3)\n",
    "    fig.update_yaxes(title_text=y_value.replace(\"_\", \" \").capitalize(), col=1)\n",
    "    if y_log:\n",
    "        fig.update_yaxes(type=\"log\", exponentformat=\"e\", range=[-7, 0])\n",
    "    title = f\"[{exp_id}] All subjects\" if exp_id else \"All subjects\"\n",
    "    fig.update_layout(\n",
    "        title=title,\n",
    "        showlegend=True,\n",
    "        legend_title=\"Experiment ID\",\n",
    "        width=1920,\n",
    "        height=1080,\n",
    "    )\n",
    "\n",
    "    if show:\n",
    "        fig.show()\n",
    "    if out_dir:\n",
    "        out_dir.mkdir(exist_ok=True, parents=True)\n",
    "        fig.write_html(out_dir / f\"{y_value}.html\")\n",
    "        fig.write_image(out_dir / f\"{y_value}.png\")"
   ]
  },
  {
   "cell_type": "markdown",
   "metadata": {},
   "source": [
    "# Data processing\n"
   ]
  },
  {
   "cell_type": "code",
   "execution_count": 6,
   "metadata": {},
   "outputs": [],
   "source": [
    "from pathlib import Path\n",
    "import re\n",
    "\n",
    "DEBUG = True\n",
    "N_SUBJECT = 20\n",
    "\n",
    "FILENAME_PATTERN = re.compile(\n",
    "    r\"antsRegistration-r(?P<range>\\d+)-p(?P<precision>\\d+)-(?P<task_id>\\d+)-(?P<array_id>\\d+)\\.out\"\n",
    ")\n",
    "\n",
    "figures = Path(\"figures\")\n",
    "figures.mkdir(exist_ok=True, parents=True)"
   ]
  },
  {
   "cell_type": "markdown",
   "metadata": {},
   "source": [
    "## Check failed execution\n"
   ]
  },
  {
   "cell_type": "code",
   "execution_count": 7,
   "metadata": {},
   "outputs": [],
   "source": [
    "from typing import Iterable\n",
    "\n",
    "\n",
    "def get_failed_exec(logs: Path | Iterable[Path]) -> int:\n",
    "    if isinstance(logs, Path):\n",
    "        logs = [logs]\n",
    "\n",
    "    failed = list()\n",
    "    for log in logs:\n",
    "        if log.read_text().count(\"Elapsed time (stage 0):\") != 4:\n",
    "            failed.append(log)\n",
    "    return failed"
   ]
  },
  {
   "cell_type": "code",
   "execution_count": 8,
   "metadata": {},
   "outputs": [],
   "source": [
    "# Group logs by task_id\n",
    "import re\n",
    "from collections import defaultdict\n",
    "\n",
    "\n",
    "logs = list(Path(\"log\").rglob(f\"antsRegistration-r*-p*-*.out\"))\n",
    "\n",
    "experiements = defaultdict(list)\n",
    "for log in logs:\n",
    "    m = FILENAME_PATTERN.match(log.name)\n",
    "    if not m:\n",
    "        print(log)\n",
    "        raise ValueError(\"Invalid log file name\")\n",
    "    experiements[m.group(\"task_id\")].append(log)"
   ]
  },
  {
   "cell_type": "code",
   "execution_count": 9,
   "metadata": {},
   "outputs": [
    {
     "name": "stdout",
     "output_type": "stream",
     "text": [
      "Task 42143358 (r8-p14): 0 failed\n",
      "Task 42143377 (r8-p23): 0 failed\n",
      "Task 42143349 (r7-p9): 0 failed\n",
      "Task 42143346 (r8-p8): 0 failed\n",
      "Task 42143366 (r7-p17): 0 failed\n",
      "Task 42143351 (r7-p10): 0 failed\n",
      "Task 42143344 (r8-p7): 0 failed\n",
      "Task 42143362 (r7-p15): 0 failed\n",
      "Task 42143342 (r8-p6): 20 failed\n",
      "Task 42143374 (r7-p21): 0 failed\n",
      "Task 42143368 (r7-p18): 0 failed\n",
      "Task 42143354 (r8-p12): 0 failed\n",
      "Task 42143372 (r7-p20): 0 failed\n",
      "Task 42143378 (r7-p23): 0 failed\n",
      "Task 42143353 (r7-p11): 0 failed\n",
      "Task 42143369 (r8-p19): 0 failed\n",
      "Task 42143356 (r8-p13): 0 failed\n",
      "Task 42143361 (r8-p15): 0 failed\n",
      "Task 42143375 (r8-p22): 0 failed\n",
      "Task 42143371 (r8-p20): 0 failed\n",
      "Task 42143350 (r8-p10): 0 failed\n",
      "Task 42143364 (r7-p16): 0 failed\n",
      "Task 42143357 (r7-p13): 0 failed\n",
      "Task 42143359 (r7-p14): 0 failed\n",
      "Task 42143343 (r7-p6): 20 failed\n",
      "Task 42143348 (r8-p9): 0 failed\n",
      "Task 42143345 (r7-p7): 0 failed\n",
      "Task 42143347 (r7-p8): 0 failed\n",
      "Task 42143365 (r8-p17): 0 failed\n",
      "Task 42143363 (r8-p16): 0 failed\n",
      "Task 42143367 (r8-p18): 0 failed\n",
      "Task 42143373 (r8-p21): 0 failed\n",
      "Task 42143355 (r7-p12): 0 failed\n",
      "Task 42143352 (r8-p11): 0 failed\n",
      "Task 42143370 (r7-p19): 0 failed\n",
      "Task 42143376 (r7-p22): 0 failed\n",
      "Task 42230337 (r8-p7): 0 failed\n",
      "Task 42230366 (r7-p21): 0 failed\n",
      "Task 42230358 (r7-p17): 0 failed\n",
      "Task 42230360 (r7-p18): 0 failed\n",
      "Task 42230363 (r8-p20): 0 failed\n",
      "Task 42230351 (r8-p14): 0 failed\n",
      "Task 42230365 (r8-p21): 0 failed\n",
      "Task 42230369 (r8-p23): 0 failed\n",
      "Task 42230354 (r7-p15): 0 failed\n",
      "Task 42230342 (r7-p9): 0 failed\n",
      "Task 42230359 (r8-p18): 0 failed\n",
      "Task 42230344 (r7-p10): 0 failed\n",
      "Task 42230350 (r7-p13): 0 failed\n",
      "Task 42230352 (r7-p14): 0 failed\n",
      "Task 42230347 (r8-p12): 0 failed\n",
      "Task 42230357 (r8-p17): 0 failed\n",
      "Task 42230368 (r7-p22): 0 failed\n",
      "Task 42230348 (r7-p12): 0 failed\n",
      "Task 42230339 (r8-p8): 0 failed\n",
      "Task 42230336 (r7-p6): 20 failed\n",
      "Task 42230362 (r7-p19): 0 failed\n",
      "Task 42230346 (r7-p11): 0 failed\n",
      "Task 42230355 (r8-p16): 0 failed\n",
      "Task 42230349 (r8-p13): 0 failed\n",
      "Task 42230364 (r7-p20): 0 failed\n",
      "Task 42230341 (r8-p9): 0 failed\n",
      "Task 42230370 (r7-p23): 0 failed\n",
      "Task 42230343 (r8-p10): 0 failed\n",
      "Task 42230361 (r8-p19): 0 failed\n",
      "Task 42230356 (r7-p16): 0 failed\n",
      "Task 42230345 (r8-p11): 0 failed\n",
      "Task 42230353 (r8-p15): 0 failed\n",
      "Task 42230340 (r7-p8): 0 failed\n",
      "Task 42230338 (r7-p7): 0 failed\n",
      "Task 42230367 (r8-p22): 0 failed\n",
      "Task 42230335 (r8-p6): 20 failed\n"
     ]
    }
   ],
   "source": [
    "# Count failed execution for each task_id\n",
    "n_failed = defaultdict(dict)\n",
    "for task_id, logs in experiements.items():\n",
    "    failed = get_failed_exec(logs)\n",
    "\n",
    "    range_ = int(FILENAME_PATTERN.match(logs[0].name).group(\"range\"))\n",
    "    precision_ = int(FILENAME_PATTERN.match(logs[0].name).group(\"precision\"))\n",
    "    n_failed[range_][precision_] = len(failed)\n",
    "\n",
    "    print(f\"Task {task_id} (r{range_}-p{precision_}): {len(failed)} failed\")\n",
    "    if DEBUG and len(failed) != len(logs):\n",
    "        for log in failed:\n",
    "            print(log, end=\"\\n\\n\")\n",
    "\n",
    "# Manually add failure for range 6\n",
    "n_failed[6] = {r: N_SUBJECT for r in range(7, 24)}"
   ]
  },
  {
   "cell_type": "markdown",
   "metadata": {},
   "source": [
    "## QA using metric value\n"
   ]
  },
  {
   "cell_type": "code",
   "execution_count": 10,
   "metadata": {},
   "outputs": [],
   "source": [
    "import pandas as pd\n",
    "\n",
    "\n",
    "p_lvl_header = r\"DIAGNOSTIC,Iteration,metricValue,convergenceValue,ITERATION_TIME_INDEX,SINCE_LAST|  Elapsed time\"\n",
    "\n",
    "logs = Path(\"log\")\n",
    "\n",
    "dfs = list()\n",
    "for array_id in range(1, N_SUBJECT + 1):\n",
    "    for filename in logs.rglob(f\"antsRegistration-*-{array_id}.out\"):\n",
    "        if filename.name.startswith(\"antsRegistration-binary64\"):\n",
    "            data_format = \"binary64\"\n",
    "        else:\n",
    "            data_format = \"-\".join(filename.name.split(\"-\")[1:3])\n",
    "\n",
    "        txt = filename.read_text()\n",
    "\n",
    "        # Extract subject_id from log\n",
    "        subject_id = re.search(r\"SUBJECT_ID: (?P<subject_id>.*)\", txt).group(\n",
    "            \"subject_id\"\n",
    "        )\n",
    "\n",
    "        # Filter out the header from the stages\n",
    "        all_data = [\n",
    "            x\n",
    "            for x in re.split(p_lvl_header, txt)[1:]\n",
    "            if not x.startswith(\" (stage 0):\")\n",
    "        ]\n",
    "\n",
    "        # 3 stages with 4 levels of resolution each\n",
    "        for stage in range(1, 4):\n",
    "            for i, level in enumerate(all_data[4 * (stage - 1) : 4 * stage]):\n",
    "                table = defaultdict(list)\n",
    "                for row in re.split(r\"\\n\", level.strip(\"XX\").strip()):\n",
    "                    # Skip invalid rows\n",
    "                    # e.g. error messages or write volumes to disk\n",
    "                    if not (\"2DIAGNOSTIC\" in row or \"1DIAGNOSTIC\" in row):\n",
    "                        continue\n",
    "\n",
    "                    # Raise exception if the row is not as expected\n",
    "                    try:\n",
    "                        cols = row.split(\",\")\n",
    "                        table[\"iterations\"].append(cols[1].strip())\n",
    "                        table[\"metric\"].append(cols[2].strip())\n",
    "                        table[\"convergence_value\"].append(cols[3].strip())\n",
    "                        table[\"total_time\"].append(cols[4].strip())\n",
    "                        table[\"since_last\"].append(cols[5].strip())\n",
    "                    except Exception as e:\n",
    "                        print(cols)\n",
    "                        raise e\n",
    "\n",
    "                dfs.append(\n",
    "                    pd.DataFrame(\n",
    "                        data={\n",
    "                            \"subject\": subject_id,\n",
    "                            \"array_id\": array_id,\n",
    "                            \"exp_id\": filename.parent.name,\n",
    "                            \"data_format\": data_format,\n",
    "                            \"stage\": stage,\n",
    "                            \"level\": i + 1,\n",
    "                            \"iterations\": table[\"iterations\"],\n",
    "                            \"metric\": table[\"metric\"],\n",
    "                            \"convergence_value\": table[\"convergence_value\"],\n",
    "                            \"total_time\": table[\"total_time\"],\n",
    "                            \"since_last\": table[\"since_last\"],\n",
    "                        }\n",
    "                    )\n",
    "                )\n",
    "\n",
    "df = pd.concat(dfs, ignore_index=True)\n",
    "df = df.astype(\n",
    "    {\n",
    "        \"stage\": int,\n",
    "        \"level\": int,\n",
    "        \"iterations\": int,\n",
    "        \"metric\": np.float64,\n",
    "        \"convergence_value\": np.float64,\n",
    "        \"total_time\": np.float64,\n",
    "        \"since_last\": np.float64,\n",
    "    }\n",
    ")\n",
    "rv = (\n",
    "    df.groupby(\n",
    "        [\"subject\", \"array_id\", \"exp_id\", \"data_format\", \"stage\", \"level\", \"iterations\"]\n",
    "    )\n",
    "    .agg({\"metric\": \"mean\", \"convergence_value\": \"mean\", \"total_time\": \"mean\"})\n",
    "    .reset_index()\n",
    ")"
   ]
  },
  {
   "cell_type": "code",
   "execution_count": 150,
   "metadata": {},
   "outputs": [],
   "source": [
    "def get_stage_metric_stats(df, stage):\n",
    "    df_subset = df[(df[\"stage\"] == stage) & (df[\"level\"] == 4)]\n",
    "    max_iter_idx = df_subset.groupby([\"exp_id\", \"subject\", \"data_format\"])[\n",
    "        \"iterations\"\n",
    "    ].idxmax()\n",
    "    df_subset = df_subset.loc[\n",
    "        max_iter_idx, [\"exp_id\", \"subject\", \"data_format\", \"iterations\", \"metric\"]\n",
    "    ].reset_index(drop=True)\n",
    "    exp_metrics = (\n",
    "        df_subset.set_index([\"exp_id\", \"subject\", \"data_format\"])[\"metric\"]\n",
    "        .unstack()\n",
    "        .to_dict()\n",
    "    )\n",
    "\n",
    "    subjects = df[\"subject\"].unique()\n",
    "    metric_stats = dict()\n",
    "\n",
    "    def _get_metric(data, func):\n",
    "        return {\n",
    "            k: func(\n",
    "                [\n",
    "                    metric\n",
    "                    for (_, subj_id), metric in v.items()\n",
    "                    if subj_id in subjects and not np.isnan(metric)\n",
    "                ]\n",
    "            )\n",
    "            for k, v in data.items()\n",
    "        }\n",
    "\n",
    "    metric_stats[\"worst\"] = _get_metric(exp_metrics, np.nanmax)\n",
    "    metric_stats[\"mean\"] = _get_metric(exp_metrics, np.nanmean)\n",
    "    metric_stats[\"best\"] = _get_metric(exp_metrics, np.nanmin)\n",
    "    metric_stats[\"raw_value\"] = _get_metric(exp_metrics, lambda x: x)\n",
    "\n",
    "    return metric_stats"
   ]
  },
  {
   "cell_type": "markdown",
   "metadata": {},
   "source": [
    "# Figures\n"
   ]
  },
  {
   "cell_type": "code",
   "execution_count": 187,
   "metadata": {},
   "outputs": [
    {
     "name": "stdout",
     "output_type": "stream",
     "text": [
      "zmin: -0.1051,zmax: 0.1051,ref_value: 0.0000,max_abs_diff: 0.1051\n"
     ]
    },
    {
     "data": {
      "application/vnd.plotly.v1+json": {
       "config": {
        "plotlyServerURL": "https://plot.ly"
       },
       "data": [
        {
         "colorscale": [
          [
           0,
           "grey"
          ],
          [
           1,
           "grey"
          ]
         ],
         "showscale": false,
         "type": "heatmap",
         "x": [
          6,
          7,
          8,
          9,
          10,
          11,
          12,
          13,
          14,
          15,
          16,
          17,
          18,
          19,
          20,
          21,
          22,
          23
         ],
         "y": [
          6,
          7,
          8
         ],
         "z": {
          "bdata": "AAAAAAAA8D8AAAAAAADwPwAAAAAAAPA/AAAAAAAA8D8AAAAAAADwPwAAAAAAAPA/AAAAAAAA8D8AAAAAAADwPwAAAAAAAPA/AAAAAAAA8D8AAAAAAADwPwAAAAAAAPA/AAAAAAAA8D8AAAAAAADwPwAAAAAAAPA/AAAAAAAA8D8AAAAAAADwPwAAAAAAAPA/AAAAAAAA8D8AAAAAAAD4fwAAAAAAAPh/AAAAAAAA+H8AAAAAAAD4fwAAAAAAAPh/AAAAAAAA+H8AAAAAAAD4fwAAAAAAAPh/AAAAAAAA+H8AAAAAAAD4fwAAAAAAAPh/AAAAAAAA+H8AAAAAAAD4fwAAAAAAAPh/AAAAAAAA+H8AAAAAAAD4fwAAAAAAAPh/AAAAAAAA8D8AAAAAAAD4fwAAAAAAAPh/AAAAAAAA+H8AAAAAAAD4fwAAAAAAAPh/AAAAAAAA+H8AAAAAAAD4fwAAAAAAAPh/AAAAAAAA+H8AAAAAAAD4fwAAAAAAAPh/AAAAAAAA+H8AAAAAAAD4fwAAAAAAAPh/AAAAAAAA+H8AAAAAAAD4fwAAAAAAAPh/",
          "dtype": "f8",
          "shape": "3, 18"
         }
        },
        {
         "colorscale": [
          [
           0,
           "green"
          ],
          [
           0.5,
           "white"
          ],
          [
           1,
           "red"
          ]
         ],
         "text": [
          [
           "",
           "",
           "",
           "",
           "",
           "",
           "",
           "",
           "",
           "",
           "",
           "",
           "",
           "",
           "",
           "",
           "",
           ""
          ],
          [
           "",
           "0.011<br>± 0.006",
           "0.005<br>± 0.004",
           "0.002<br>± 0.002",
           "0.001<br>± 0.002",
           "0.000<br>± 0.000",
           "0.000<br>± 0.001",
           "0.000<br>± 0.001",
           "0.000<br>± 0.000",
           "0.000<br>± 0.000",
           "0.000<br>± 0.000",
           "0.000<br>± 0.000",
           "-0.000<br>± 0.000",
           "-0.000<br>± 0.000",
           "-0.000<br>± 0.000",
           "-0.000<br>± 0.000",
           "-0.000<br>± 0.000",
           "-0.000<br>± 0.000"
          ],
          [
           "",
           "0.011<br>± 0.006",
           "0.005<br>± 0.004",
           "0.002<br>± 0.002",
           "0.001<br>± 0.002",
           "0.000<br>± 0.000",
           "0.001<br>± 0.001",
           "0.000<br>± 0.001",
           "0.000<br>± 0.000",
           "0.000<br>± 0.000",
           "0.000<br>± 0.000",
           "0.000<br>± 0.000",
           "-0.000<br>± 0.000",
           "0.000<br>± 0.000",
           "-0.000<br>± 0.000",
           "-0.000<br>± 0.000",
           "-0.000<br>± 0.000",
           "-0.000<br>± 0.000"
          ]
         ],
         "texttemplate": "%{text}",
         "type": "heatmap",
         "x": [
          6,
          7,
          8,
          9,
          10,
          11,
          12,
          13,
          14,
          15,
          16,
          17,
          18,
          19,
          20,
          21,
          22,
          23
         ],
         "y": [
          6,
          7,
          8
         ],
         "z": {
          "bdata": "AAAAAAAA+H8AAAAAAAD4fwAAAAAAAPh/AAAAAAAA+H8AAAAAAAD4fwAAAAAAAPh/AAAAAAAA+H8AAAAAAAD4fwAAAAAAAPh/AAAAAAAA+H8AAAAAAAD4fwAAAAAAAPh/AAAAAAAA+H8AAAAAAAD4fwAAAAAAAPh/AAAAAAAA+H8AAAAAAAD4fwAAAAAAAPh/AAAAAAAA+H9ATfK31GuGP8B9PwsZ8HQ/gP4dXjcfYD8A+rEa/btUPwBQtldplRc/AKomOsA/QD8AOO9XeA4kPwCAyySRqhA/AAAa6DMw5T4AAA4kmwzpPgBAs4cr+Q4/AGD6tHreEb8AAP6piMvtvgCw6aNfKR6/AIDowp53Cb8AYIJzkYoRvwBgwupsKAO/AAAAAAAA+H9ATfK31GuGP0BRQ/lt6nQ/gP4dXjcfYD8A+rEa/btUPwBQtldplRc/AIjEd60qQT8AOO9XeA4kPwCAyySRqhA/AAAa6DMw5T4AgGz9eT31PgBAs4cr+Q4/ADA7ZaALFr8AAHAjdZO8PgAQk7HuPhu/AIDowp53Cb8AYIJzkYoRvwBgwupsKAO/",
          "dtype": "f8",
          "shape": "3, 18"
         },
         "zmax": 0.10514695725968493,
         "zmid": 0,
         "zmin": -0.10514695725968493
        }
       ],
       "layout": {
        "annotations": [
         {
          "font": {
           "color": "black"
          },
          "showarrow": false,
          "text": "bfloat16",
          "x": 7,
          "xanchor": "center",
          "y": 8.25,
          "yanchor": "bottom"
         },
         {
          "font": {
           "color": "black"
          },
          "showarrow": false,
          "text": "float32",
          "x": 23,
          "xanchor": "center",
          "y": 8.25,
          "yanchor": "bottom"
         }
        ],
        "height": 400,
        "template": {
         "data": {
          "bar": [
           {
            "error_x": {
             "color": "#2a3f5f"
            },
            "error_y": {
             "color": "#2a3f5f"
            },
            "marker": {
             "line": {
              "color": "#E5ECF6",
              "width": 0.5
             },
             "pattern": {
              "fillmode": "overlay",
              "size": 10,
              "solidity": 0.2
             }
            },
            "type": "bar"
           }
          ],
          "barpolar": [
           {
            "marker": {
             "line": {
              "color": "#E5ECF6",
              "width": 0.5
             },
             "pattern": {
              "fillmode": "overlay",
              "size": 10,
              "solidity": 0.2
             }
            },
            "type": "barpolar"
           }
          ],
          "carpet": [
           {
            "aaxis": {
             "endlinecolor": "#2a3f5f",
             "gridcolor": "white",
             "linecolor": "white",
             "minorgridcolor": "white",
             "startlinecolor": "#2a3f5f"
            },
            "baxis": {
             "endlinecolor": "#2a3f5f",
             "gridcolor": "white",
             "linecolor": "white",
             "minorgridcolor": "white",
             "startlinecolor": "#2a3f5f"
            },
            "type": "carpet"
           }
          ],
          "choropleth": [
           {
            "colorbar": {
             "outlinewidth": 0,
             "ticks": ""
            },
            "type": "choropleth"
           }
          ],
          "contour": [
           {
            "colorbar": {
             "outlinewidth": 0,
             "ticks": ""
            },
            "colorscale": [
             [
              0,
              "#0d0887"
             ],
             [
              0.1111111111111111,
              "#46039f"
             ],
             [
              0.2222222222222222,
              "#7201a8"
             ],
             [
              0.3333333333333333,
              "#9c179e"
             ],
             [
              0.4444444444444444,
              "#bd3786"
             ],
             [
              0.5555555555555556,
              "#d8576b"
             ],
             [
              0.6666666666666666,
              "#ed7953"
             ],
             [
              0.7777777777777778,
              "#fb9f3a"
             ],
             [
              0.8888888888888888,
              "#fdca26"
             ],
             [
              1,
              "#f0f921"
             ]
            ],
            "type": "contour"
           }
          ],
          "contourcarpet": [
           {
            "colorbar": {
             "outlinewidth": 0,
             "ticks": ""
            },
            "type": "contourcarpet"
           }
          ],
          "heatmap": [
           {
            "colorbar": {
             "outlinewidth": 0,
             "ticks": ""
            },
            "colorscale": [
             [
              0,
              "#0d0887"
             ],
             [
              0.1111111111111111,
              "#46039f"
             ],
             [
              0.2222222222222222,
              "#7201a8"
             ],
             [
              0.3333333333333333,
              "#9c179e"
             ],
             [
              0.4444444444444444,
              "#bd3786"
             ],
             [
              0.5555555555555556,
              "#d8576b"
             ],
             [
              0.6666666666666666,
              "#ed7953"
             ],
             [
              0.7777777777777778,
              "#fb9f3a"
             ],
             [
              0.8888888888888888,
              "#fdca26"
             ],
             [
              1,
              "#f0f921"
             ]
            ],
            "type": "heatmap"
           }
          ],
          "histogram": [
           {
            "marker": {
             "pattern": {
              "fillmode": "overlay",
              "size": 10,
              "solidity": 0.2
             }
            },
            "type": "histogram"
           }
          ],
          "histogram2d": [
           {
            "colorbar": {
             "outlinewidth": 0,
             "ticks": ""
            },
            "colorscale": [
             [
              0,
              "#0d0887"
             ],
             [
              0.1111111111111111,
              "#46039f"
             ],
             [
              0.2222222222222222,
              "#7201a8"
             ],
             [
              0.3333333333333333,
              "#9c179e"
             ],
             [
              0.4444444444444444,
              "#bd3786"
             ],
             [
              0.5555555555555556,
              "#d8576b"
             ],
             [
              0.6666666666666666,
              "#ed7953"
             ],
             [
              0.7777777777777778,
              "#fb9f3a"
             ],
             [
              0.8888888888888888,
              "#fdca26"
             ],
             [
              1,
              "#f0f921"
             ]
            ],
            "type": "histogram2d"
           }
          ],
          "histogram2dcontour": [
           {
            "colorbar": {
             "outlinewidth": 0,
             "ticks": ""
            },
            "colorscale": [
             [
              0,
              "#0d0887"
             ],
             [
              0.1111111111111111,
              "#46039f"
             ],
             [
              0.2222222222222222,
              "#7201a8"
             ],
             [
              0.3333333333333333,
              "#9c179e"
             ],
             [
              0.4444444444444444,
              "#bd3786"
             ],
             [
              0.5555555555555556,
              "#d8576b"
             ],
             [
              0.6666666666666666,
              "#ed7953"
             ],
             [
              0.7777777777777778,
              "#fb9f3a"
             ],
             [
              0.8888888888888888,
              "#fdca26"
             ],
             [
              1,
              "#f0f921"
             ]
            ],
            "type": "histogram2dcontour"
           }
          ],
          "mesh3d": [
           {
            "colorbar": {
             "outlinewidth": 0,
             "ticks": ""
            },
            "type": "mesh3d"
           }
          ],
          "parcoords": [
           {
            "line": {
             "colorbar": {
              "outlinewidth": 0,
              "ticks": ""
             }
            },
            "type": "parcoords"
           }
          ],
          "pie": [
           {
            "automargin": true,
            "type": "pie"
           }
          ],
          "scatter": [
           {
            "fillpattern": {
             "fillmode": "overlay",
             "size": 10,
             "solidity": 0.2
            },
            "type": "scatter"
           }
          ],
          "scatter3d": [
           {
            "line": {
             "colorbar": {
              "outlinewidth": 0,
              "ticks": ""
             }
            },
            "marker": {
             "colorbar": {
              "outlinewidth": 0,
              "ticks": ""
             }
            },
            "type": "scatter3d"
           }
          ],
          "scattercarpet": [
           {
            "marker": {
             "colorbar": {
              "outlinewidth": 0,
              "ticks": ""
             }
            },
            "type": "scattercarpet"
           }
          ],
          "scattergeo": [
           {
            "marker": {
             "colorbar": {
              "outlinewidth": 0,
              "ticks": ""
             }
            },
            "type": "scattergeo"
           }
          ],
          "scattergl": [
           {
            "marker": {
             "colorbar": {
              "outlinewidth": 0,
              "ticks": ""
             }
            },
            "type": "scattergl"
           }
          ],
          "scattermap": [
           {
            "marker": {
             "colorbar": {
              "outlinewidth": 0,
              "ticks": ""
             }
            },
            "type": "scattermap"
           }
          ],
          "scattermapbox": [
           {
            "marker": {
             "colorbar": {
              "outlinewidth": 0,
              "ticks": ""
             }
            },
            "type": "scattermapbox"
           }
          ],
          "scatterpolar": [
           {
            "marker": {
             "colorbar": {
              "outlinewidth": 0,
              "ticks": ""
             }
            },
            "type": "scatterpolar"
           }
          ],
          "scatterpolargl": [
           {
            "marker": {
             "colorbar": {
              "outlinewidth": 0,
              "ticks": ""
             }
            },
            "type": "scatterpolargl"
           }
          ],
          "scatterternary": [
           {
            "marker": {
             "colorbar": {
              "outlinewidth": 0,
              "ticks": ""
             }
            },
            "type": "scatterternary"
           }
          ],
          "surface": [
           {
            "colorbar": {
             "outlinewidth": 0,
             "ticks": ""
            },
            "colorscale": [
             [
              0,
              "#0d0887"
             ],
             [
              0.1111111111111111,
              "#46039f"
             ],
             [
              0.2222222222222222,
              "#7201a8"
             ],
             [
              0.3333333333333333,
              "#9c179e"
             ],
             [
              0.4444444444444444,
              "#bd3786"
             ],
             [
              0.5555555555555556,
              "#d8576b"
             ],
             [
              0.6666666666666666,
              "#ed7953"
             ],
             [
              0.7777777777777778,
              "#fb9f3a"
             ],
             [
              0.8888888888888888,
              "#fdca26"
             ],
             [
              1,
              "#f0f921"
             ]
            ],
            "type": "surface"
           }
          ],
          "table": [
           {
            "cells": {
             "fill": {
              "color": "#EBF0F8"
             },
             "line": {
              "color": "white"
             }
            },
            "header": {
             "fill": {
              "color": "#C8D4E3"
             },
             "line": {
              "color": "white"
             }
            },
            "type": "table"
           }
          ]
         },
         "layout": {
          "annotationdefaults": {
           "arrowcolor": "#2a3f5f",
           "arrowhead": 0,
           "arrowwidth": 1
          },
          "autotypenumbers": "strict",
          "coloraxis": {
           "colorbar": {
            "outlinewidth": 0,
            "ticks": ""
           }
          },
          "colorscale": {
           "diverging": [
            [
             0,
             "#8e0152"
            ],
            [
             0.1,
             "#c51b7d"
            ],
            [
             0.2,
             "#de77ae"
            ],
            [
             0.3,
             "#f1b6da"
            ],
            [
             0.4,
             "#fde0ef"
            ],
            [
             0.5,
             "#f7f7f7"
            ],
            [
             0.6,
             "#e6f5d0"
            ],
            [
             0.7,
             "#b8e186"
            ],
            [
             0.8,
             "#7fbc41"
            ],
            [
             0.9,
             "#4d9221"
            ],
            [
             1,
             "#276419"
            ]
           ],
           "sequential": [
            [
             0,
             "#0d0887"
            ],
            [
             0.1111111111111111,
             "#46039f"
            ],
            [
             0.2222222222222222,
             "#7201a8"
            ],
            [
             0.3333333333333333,
             "#9c179e"
            ],
            [
             0.4444444444444444,
             "#bd3786"
            ],
            [
             0.5555555555555556,
             "#d8576b"
            ],
            [
             0.6666666666666666,
             "#ed7953"
            ],
            [
             0.7777777777777778,
             "#fb9f3a"
            ],
            [
             0.8888888888888888,
             "#fdca26"
            ],
            [
             1,
             "#f0f921"
            ]
           ],
           "sequentialminus": [
            [
             0,
             "#0d0887"
            ],
            [
             0.1111111111111111,
             "#46039f"
            ],
            [
             0.2222222222222222,
             "#7201a8"
            ],
            [
             0.3333333333333333,
             "#9c179e"
            ],
            [
             0.4444444444444444,
             "#bd3786"
            ],
            [
             0.5555555555555556,
             "#d8576b"
            ],
            [
             0.6666666666666666,
             "#ed7953"
            ],
            [
             0.7777777777777778,
             "#fb9f3a"
            ],
            [
             0.8888888888888888,
             "#fdca26"
            ],
            [
             1,
             "#f0f921"
            ]
           ]
          },
          "colorway": [
           "#636efa",
           "#EF553B",
           "#00cc96",
           "#ab63fa",
           "#FFA15A",
           "#19d3f3",
           "#FF6692",
           "#B6E880",
           "#FF97FF",
           "#FECB52"
          ],
          "font": {
           "color": "#2a3f5f"
          },
          "geo": {
           "bgcolor": "white",
           "lakecolor": "white",
           "landcolor": "#E5ECF6",
           "showlakes": true,
           "showland": true,
           "subunitcolor": "white"
          },
          "hoverlabel": {
           "align": "left"
          },
          "hovermode": "closest",
          "mapbox": {
           "style": "light"
          },
          "paper_bgcolor": "white",
          "plot_bgcolor": "#E5ECF6",
          "polar": {
           "angularaxis": {
            "gridcolor": "white",
            "linecolor": "white",
            "ticks": ""
           },
           "bgcolor": "#E5ECF6",
           "radialaxis": {
            "gridcolor": "white",
            "linecolor": "white",
            "ticks": ""
           }
          },
          "scene": {
           "xaxis": {
            "backgroundcolor": "#E5ECF6",
            "gridcolor": "white",
            "gridwidth": 2,
            "linecolor": "white",
            "showbackground": true,
            "ticks": "",
            "zerolinecolor": "white"
           },
           "yaxis": {
            "backgroundcolor": "#E5ECF6",
            "gridcolor": "white",
            "gridwidth": 2,
            "linecolor": "white",
            "showbackground": true,
            "ticks": "",
            "zerolinecolor": "white"
           },
           "zaxis": {
            "backgroundcolor": "#E5ECF6",
            "gridcolor": "white",
            "gridwidth": 2,
            "linecolor": "white",
            "showbackground": true,
            "ticks": "",
            "zerolinecolor": "white"
           }
          },
          "shapedefaults": {
           "line": {
            "color": "#2a3f5f"
           }
          },
          "ternary": {
           "aaxis": {
            "gridcolor": "white",
            "linecolor": "white",
            "ticks": ""
           },
           "baxis": {
            "gridcolor": "white",
            "linecolor": "white",
            "ticks": ""
           },
           "bgcolor": "#E5ECF6",
           "caxis": {
            "gridcolor": "white",
            "linecolor": "white",
            "ticks": ""
           }
          },
          "title": {
           "x": 0.05
          },
          "xaxis": {
           "automargin": true,
           "gridcolor": "white",
           "linecolor": "white",
           "ticks": "",
           "title": {
            "standoff": 15
           },
           "zerolinecolor": "white",
           "zerolinewidth": 2
          },
          "yaxis": {
           "automargin": true,
           "gridcolor": "white",
           "linecolor": "white",
           "ticks": "",
           "title": {
            "standoff": 15
           },
           "zerolinecolor": "white",
           "zerolinewidth": 2
          }
         }
        },
        "title": {
         "text": "[0110] Rigid (MI): Metric difference with Binary64 - Subjects mean"
        },
        "width": 1600,
        "xaxis": {
         "ticks": "outside",
         "tickvals": [
          6,
          7,
          8,
          9,
          10,
          11,
          12,
          13,
          14,
          15,
          16,
          17,
          18,
          19,
          20,
          21,
          22,
          23
         ],
         "title": {
          "text": "Precision (# of bits)"
         }
        },
        "yaxis": {
         "ticks": "outside",
         "tickvals": [
          6,
          7,
          8
         ],
         "title": {
          "text": "Range (# of bits)"
         }
        }
       }
      }
     },
     "metadata": {},
     "output_type": "display_data"
    },
    {
     "name": "stdout",
     "output_type": "stream",
     "text": [
      "zmin: -0.1051,zmax: 0.1051,ref_value: 0.0000,max_abs_diff: 0.1051\n"
     ]
    },
    {
     "data": {
      "application/vnd.plotly.v1+json": {
       "config": {
        "plotlyServerURL": "https://plot.ly"
       },
       "data": [
        {
         "colorscale": [
          [
           0,
           "grey"
          ],
          [
           1,
           "grey"
          ]
         ],
         "showscale": false,
         "type": "heatmap",
         "x": [
          6,
          7,
          8,
          9,
          10,
          11,
          12,
          13,
          14,
          15,
          16,
          17,
          18,
          19,
          20,
          21,
          22,
          23
         ],
         "y": [
          6,
          7,
          8
         ],
         "z": {
          "bdata": "AAAAAAAA8D8AAAAAAADwPwAAAAAAAPA/AAAAAAAA8D8AAAAAAADwPwAAAAAAAPA/AAAAAAAA8D8AAAAAAADwPwAAAAAAAPA/AAAAAAAA8D8AAAAAAADwPwAAAAAAAPA/AAAAAAAA8D8AAAAAAADwPwAAAAAAAPA/AAAAAAAA8D8AAAAAAADwPwAAAAAAAPA/AAAAAAAA8D8AAAAAAAD4fwAAAAAAAPh/AAAAAAAA+H8AAAAAAAD4fwAAAAAAAPh/AAAAAAAA+H8AAAAAAAD4fwAAAAAAAPh/AAAAAAAA+H8AAAAAAAD4fwAAAAAAAPh/AAAAAAAA+H8AAAAAAAD4fwAAAAAAAPh/AAAAAAAA+H8AAAAAAAD4fwAAAAAAAPh/AAAAAAAA8D8AAAAAAAD4fwAAAAAAAPh/AAAAAAAA+H8AAAAAAAD4fwAAAAAAAPh/AAAAAAAA+H8AAAAAAAD4fwAAAAAAAPh/AAAAAAAA+H8AAAAAAAD4fwAAAAAAAPh/AAAAAAAA+H8AAAAAAAD4fwAAAAAAAPh/AAAAAAAA+H8AAAAAAAD4fwAAAAAAAPh/",
          "dtype": "f8",
          "shape": "3, 18"
         }
        },
        {
         "colorscale": [
          [
           0,
           "green"
          ],
          [
           0.5,
           "white"
          ],
          [
           1,
           "red"
          ]
         ],
         "text": [
          [
           "",
           "",
           "",
           "",
           "",
           "",
           "",
           "",
           "",
           "",
           "",
           "",
           "",
           "",
           "",
           "",
           "",
           ""
          ],
          [
           "",
           "0.011<br>± 0.006",
           "0.005<br>± 0.004",
           "0.002<br>± 0.002",
           "0.001<br>± 0.002",
           "0.000<br>± 0.000",
           "0.000<br>± 0.001",
           "0.000<br>± 0.001",
           "0.000<br>± 0.000",
           "0.000<br>± 0.000",
           "0.000<br>± 0.000",
           "0.000<br>± 0.000",
           "-0.000<br>± 0.000",
           "-0.000<br>± 0.000",
           "-0.000<br>± 0.000",
           "-0.000<br>± 0.000",
           "-0.000<br>± 0.000",
           "-0.000<br>± 0.000"
          ],
          [
           "",
           "0.011<br>± 0.006",
           "0.005<br>± 0.004",
           "0.002<br>± 0.002",
           "0.001<br>± 0.002",
           "0.000<br>± 0.000",
           "0.001<br>± 0.001",
           "0.000<br>± 0.001",
           "0.000<br>± 0.000",
           "0.000<br>± 0.000",
           "0.000<br>± 0.000",
           "0.000<br>± 0.000",
           "-0.000<br>± 0.000",
           "0.000<br>± 0.000",
           "-0.000<br>± 0.000",
           "-0.000<br>± 0.000",
           "-0.000<br>± 0.000",
           "-0.000<br>± 0.000"
          ]
         ],
         "texttemplate": "%{text}",
         "type": "heatmap",
         "x": [
          6,
          7,
          8,
          9,
          10,
          11,
          12,
          13,
          14,
          15,
          16,
          17,
          18,
          19,
          20,
          21,
          22,
          23
         ],
         "y": [
          6,
          7,
          8
         ],
         "z": {
          "bdata": "AAAAAAAA+H8AAAAAAAD4fwAAAAAAAPh/AAAAAAAA+H8AAAAAAAD4fwAAAAAAAPh/AAAAAAAA+H8AAAAAAAD4fwAAAAAAAPh/AAAAAAAA+H8AAAAAAAD4fwAAAAAAAPh/AAAAAAAA+H8AAAAAAAD4fwAAAAAAAPh/AAAAAAAA+H8AAAAAAAD4fwAAAAAAAPh/AAAAAAAA+H9ATfK31GuGP8B9PwsZ8HQ/gP4dXjcfYD8A+rEa/btUPwBQtldplRc/AKomOsA/QD8AOO9XeA4kPwCAyySRqhA/AAAa6DMw5T4AAA4kmwzpPgBAs4cr+Q4/AGD6tHreEb8AAP6piMvtvgCw6aNfKR6/AIDowp53Cb8AYIJzkYoRvwBgwupsKAO/AAAAAAAA+H9ATfK31GuGP0BRQ/lt6nQ/gP4dXjcfYD8A+rEa/btUPwBQtldplRc/AIjEd60qQT8AOO9XeA4kPwCAyySRqhA/AAAa6DMw5T4AgGz9eT31PgBAs4cr+Q4/ADA7ZaALFr8AAHAjdZO8PgAQk7HuPhu/AIDowp53Cb8AYIJzkYoRvwBgwupsKAO/",
          "dtype": "f8",
          "shape": "3, 18"
         },
         "zmax": 0.10514695725968493,
         "zmid": 0,
         "zmin": -0.10514695725968493
        }
       ],
       "layout": {
        "annotations": [
         {
          "font": {
           "color": "black"
          },
          "showarrow": false,
          "text": "bfloat16",
          "x": 7,
          "xanchor": "center",
          "y": 8.25,
          "yanchor": "bottom"
         },
         {
          "font": {
           "color": "black"
          },
          "showarrow": false,
          "text": "float32",
          "x": 23,
          "xanchor": "center",
          "y": 8.25,
          "yanchor": "bottom"
         }
        ],
        "height": 400,
        "template": {
         "data": {
          "bar": [
           {
            "error_x": {
             "color": "#2a3f5f"
            },
            "error_y": {
             "color": "#2a3f5f"
            },
            "marker": {
             "line": {
              "color": "#E5ECF6",
              "width": 0.5
             },
             "pattern": {
              "fillmode": "overlay",
              "size": 10,
              "solidity": 0.2
             }
            },
            "type": "bar"
           }
          ],
          "barpolar": [
           {
            "marker": {
             "line": {
              "color": "#E5ECF6",
              "width": 0.5
             },
             "pattern": {
              "fillmode": "overlay",
              "size": 10,
              "solidity": 0.2
             }
            },
            "type": "barpolar"
           }
          ],
          "carpet": [
           {
            "aaxis": {
             "endlinecolor": "#2a3f5f",
             "gridcolor": "white",
             "linecolor": "white",
             "minorgridcolor": "white",
             "startlinecolor": "#2a3f5f"
            },
            "baxis": {
             "endlinecolor": "#2a3f5f",
             "gridcolor": "white",
             "linecolor": "white",
             "minorgridcolor": "white",
             "startlinecolor": "#2a3f5f"
            },
            "type": "carpet"
           }
          ],
          "choropleth": [
           {
            "colorbar": {
             "outlinewidth": 0,
             "ticks": ""
            },
            "type": "choropleth"
           }
          ],
          "contour": [
           {
            "colorbar": {
             "outlinewidth": 0,
             "ticks": ""
            },
            "colorscale": [
             [
              0,
              "#0d0887"
             ],
             [
              0.1111111111111111,
              "#46039f"
             ],
             [
              0.2222222222222222,
              "#7201a8"
             ],
             [
              0.3333333333333333,
              "#9c179e"
             ],
             [
              0.4444444444444444,
              "#bd3786"
             ],
             [
              0.5555555555555556,
              "#d8576b"
             ],
             [
              0.6666666666666666,
              "#ed7953"
             ],
             [
              0.7777777777777778,
              "#fb9f3a"
             ],
             [
              0.8888888888888888,
              "#fdca26"
             ],
             [
              1,
              "#f0f921"
             ]
            ],
            "type": "contour"
           }
          ],
          "contourcarpet": [
           {
            "colorbar": {
             "outlinewidth": 0,
             "ticks": ""
            },
            "type": "contourcarpet"
           }
          ],
          "heatmap": [
           {
            "colorbar": {
             "outlinewidth": 0,
             "ticks": ""
            },
            "colorscale": [
             [
              0,
              "#0d0887"
             ],
             [
              0.1111111111111111,
              "#46039f"
             ],
             [
              0.2222222222222222,
              "#7201a8"
             ],
             [
              0.3333333333333333,
              "#9c179e"
             ],
             [
              0.4444444444444444,
              "#bd3786"
             ],
             [
              0.5555555555555556,
              "#d8576b"
             ],
             [
              0.6666666666666666,
              "#ed7953"
             ],
             [
              0.7777777777777778,
              "#fb9f3a"
             ],
             [
              0.8888888888888888,
              "#fdca26"
             ],
             [
              1,
              "#f0f921"
             ]
            ],
            "type": "heatmap"
           }
          ],
          "histogram": [
           {
            "marker": {
             "pattern": {
              "fillmode": "overlay",
              "size": 10,
              "solidity": 0.2
             }
            },
            "type": "histogram"
           }
          ],
          "histogram2d": [
           {
            "colorbar": {
             "outlinewidth": 0,
             "ticks": ""
            },
            "colorscale": [
             [
              0,
              "#0d0887"
             ],
             [
              0.1111111111111111,
              "#46039f"
             ],
             [
              0.2222222222222222,
              "#7201a8"
             ],
             [
              0.3333333333333333,
              "#9c179e"
             ],
             [
              0.4444444444444444,
              "#bd3786"
             ],
             [
              0.5555555555555556,
              "#d8576b"
             ],
             [
              0.6666666666666666,
              "#ed7953"
             ],
             [
              0.7777777777777778,
              "#fb9f3a"
             ],
             [
              0.8888888888888888,
              "#fdca26"
             ],
             [
              1,
              "#f0f921"
             ]
            ],
            "type": "histogram2d"
           }
          ],
          "histogram2dcontour": [
           {
            "colorbar": {
             "outlinewidth": 0,
             "ticks": ""
            },
            "colorscale": [
             [
              0,
              "#0d0887"
             ],
             [
              0.1111111111111111,
              "#46039f"
             ],
             [
              0.2222222222222222,
              "#7201a8"
             ],
             [
              0.3333333333333333,
              "#9c179e"
             ],
             [
              0.4444444444444444,
              "#bd3786"
             ],
             [
              0.5555555555555556,
              "#d8576b"
             ],
             [
              0.6666666666666666,
              "#ed7953"
             ],
             [
              0.7777777777777778,
              "#fb9f3a"
             ],
             [
              0.8888888888888888,
              "#fdca26"
             ],
             [
              1,
              "#f0f921"
             ]
            ],
            "type": "histogram2dcontour"
           }
          ],
          "mesh3d": [
           {
            "colorbar": {
             "outlinewidth": 0,
             "ticks": ""
            },
            "type": "mesh3d"
           }
          ],
          "parcoords": [
           {
            "line": {
             "colorbar": {
              "outlinewidth": 0,
              "ticks": ""
             }
            },
            "type": "parcoords"
           }
          ],
          "pie": [
           {
            "automargin": true,
            "type": "pie"
           }
          ],
          "scatter": [
           {
            "fillpattern": {
             "fillmode": "overlay",
             "size": 10,
             "solidity": 0.2
            },
            "type": "scatter"
           }
          ],
          "scatter3d": [
           {
            "line": {
             "colorbar": {
              "outlinewidth": 0,
              "ticks": ""
             }
            },
            "marker": {
             "colorbar": {
              "outlinewidth": 0,
              "ticks": ""
             }
            },
            "type": "scatter3d"
           }
          ],
          "scattercarpet": [
           {
            "marker": {
             "colorbar": {
              "outlinewidth": 0,
              "ticks": ""
             }
            },
            "type": "scattercarpet"
           }
          ],
          "scattergeo": [
           {
            "marker": {
             "colorbar": {
              "outlinewidth": 0,
              "ticks": ""
             }
            },
            "type": "scattergeo"
           }
          ],
          "scattergl": [
           {
            "marker": {
             "colorbar": {
              "outlinewidth": 0,
              "ticks": ""
             }
            },
            "type": "scattergl"
           }
          ],
          "scattermap": [
           {
            "marker": {
             "colorbar": {
              "outlinewidth": 0,
              "ticks": ""
             }
            },
            "type": "scattermap"
           }
          ],
          "scattermapbox": [
           {
            "marker": {
             "colorbar": {
              "outlinewidth": 0,
              "ticks": ""
             }
            },
            "type": "scattermapbox"
           }
          ],
          "scatterpolar": [
           {
            "marker": {
             "colorbar": {
              "outlinewidth": 0,
              "ticks": ""
             }
            },
            "type": "scatterpolar"
           }
          ],
          "scatterpolargl": [
           {
            "marker": {
             "colorbar": {
              "outlinewidth": 0,
              "ticks": ""
             }
            },
            "type": "scatterpolargl"
           }
          ],
          "scatterternary": [
           {
            "marker": {
             "colorbar": {
              "outlinewidth": 0,
              "ticks": ""
             }
            },
            "type": "scatterternary"
           }
          ],
          "surface": [
           {
            "colorbar": {
             "outlinewidth": 0,
             "ticks": ""
            },
            "colorscale": [
             [
              0,
              "#0d0887"
             ],
             [
              0.1111111111111111,
              "#46039f"
             ],
             [
              0.2222222222222222,
              "#7201a8"
             ],
             [
              0.3333333333333333,
              "#9c179e"
             ],
             [
              0.4444444444444444,
              "#bd3786"
             ],
             [
              0.5555555555555556,
              "#d8576b"
             ],
             [
              0.6666666666666666,
              "#ed7953"
             ],
             [
              0.7777777777777778,
              "#fb9f3a"
             ],
             [
              0.8888888888888888,
              "#fdca26"
             ],
             [
              1,
              "#f0f921"
             ]
            ],
            "type": "surface"
           }
          ],
          "table": [
           {
            "cells": {
             "fill": {
              "color": "#EBF0F8"
             },
             "line": {
              "color": "white"
             }
            },
            "header": {
             "fill": {
              "color": "#C8D4E3"
             },
             "line": {
              "color": "white"
             }
            },
            "type": "table"
           }
          ]
         },
         "layout": {
          "annotationdefaults": {
           "arrowcolor": "#2a3f5f",
           "arrowhead": 0,
           "arrowwidth": 1
          },
          "autotypenumbers": "strict",
          "coloraxis": {
           "colorbar": {
            "outlinewidth": 0,
            "ticks": ""
           }
          },
          "colorscale": {
           "diverging": [
            [
             0,
             "#8e0152"
            ],
            [
             0.1,
             "#c51b7d"
            ],
            [
             0.2,
             "#de77ae"
            ],
            [
             0.3,
             "#f1b6da"
            ],
            [
             0.4,
             "#fde0ef"
            ],
            [
             0.5,
             "#f7f7f7"
            ],
            [
             0.6,
             "#e6f5d0"
            ],
            [
             0.7,
             "#b8e186"
            ],
            [
             0.8,
             "#7fbc41"
            ],
            [
             0.9,
             "#4d9221"
            ],
            [
             1,
             "#276419"
            ]
           ],
           "sequential": [
            [
             0,
             "#0d0887"
            ],
            [
             0.1111111111111111,
             "#46039f"
            ],
            [
             0.2222222222222222,
             "#7201a8"
            ],
            [
             0.3333333333333333,
             "#9c179e"
            ],
            [
             0.4444444444444444,
             "#bd3786"
            ],
            [
             0.5555555555555556,
             "#d8576b"
            ],
            [
             0.6666666666666666,
             "#ed7953"
            ],
            [
             0.7777777777777778,
             "#fb9f3a"
            ],
            [
             0.8888888888888888,
             "#fdca26"
            ],
            [
             1,
             "#f0f921"
            ]
           ],
           "sequentialminus": [
            [
             0,
             "#0d0887"
            ],
            [
             0.1111111111111111,
             "#46039f"
            ],
            [
             0.2222222222222222,
             "#7201a8"
            ],
            [
             0.3333333333333333,
             "#9c179e"
            ],
            [
             0.4444444444444444,
             "#bd3786"
            ],
            [
             0.5555555555555556,
             "#d8576b"
            ],
            [
             0.6666666666666666,
             "#ed7953"
            ],
            [
             0.7777777777777778,
             "#fb9f3a"
            ],
            [
             0.8888888888888888,
             "#fdca26"
            ],
            [
             1,
             "#f0f921"
            ]
           ]
          },
          "colorway": [
           "#636efa",
           "#EF553B",
           "#00cc96",
           "#ab63fa",
           "#FFA15A",
           "#19d3f3",
           "#FF6692",
           "#B6E880",
           "#FF97FF",
           "#FECB52"
          ],
          "font": {
           "color": "#2a3f5f"
          },
          "geo": {
           "bgcolor": "white",
           "lakecolor": "white",
           "landcolor": "#E5ECF6",
           "showlakes": true,
           "showland": true,
           "subunitcolor": "white"
          },
          "hoverlabel": {
           "align": "left"
          },
          "hovermode": "closest",
          "mapbox": {
           "style": "light"
          },
          "paper_bgcolor": "white",
          "plot_bgcolor": "#E5ECF6",
          "polar": {
           "angularaxis": {
            "gridcolor": "white",
            "linecolor": "white",
            "ticks": ""
           },
           "bgcolor": "#E5ECF6",
           "radialaxis": {
            "gridcolor": "white",
            "linecolor": "white",
            "ticks": ""
           }
          },
          "scene": {
           "xaxis": {
            "backgroundcolor": "#E5ECF6",
            "gridcolor": "white",
            "gridwidth": 2,
            "linecolor": "white",
            "showbackground": true,
            "ticks": "",
            "zerolinecolor": "white"
           },
           "yaxis": {
            "backgroundcolor": "#E5ECF6",
            "gridcolor": "white",
            "gridwidth": 2,
            "linecolor": "white",
            "showbackground": true,
            "ticks": "",
            "zerolinecolor": "white"
           },
           "zaxis": {
            "backgroundcolor": "#E5ECF6",
            "gridcolor": "white",
            "gridwidth": 2,
            "linecolor": "white",
            "showbackground": true,
            "ticks": "",
            "zerolinecolor": "white"
           }
          },
          "shapedefaults": {
           "line": {
            "color": "#2a3f5f"
           }
          },
          "ternary": {
           "aaxis": {
            "gridcolor": "white",
            "linecolor": "white",
            "ticks": ""
           },
           "baxis": {
            "gridcolor": "white",
            "linecolor": "white",
            "ticks": ""
           },
           "bgcolor": "#E5ECF6",
           "caxis": {
            "gridcolor": "white",
            "linecolor": "white",
            "ticks": ""
           }
          },
          "title": {
           "x": 0.05
          },
          "xaxis": {
           "automargin": true,
           "gridcolor": "white",
           "linecolor": "white",
           "ticks": "",
           "title": {
            "standoff": 15
           },
           "zerolinecolor": "white",
           "zerolinewidth": 2
          },
          "yaxis": {
           "automargin": true,
           "gridcolor": "white",
           "linecolor": "white",
           "ticks": "",
           "title": {
            "standoff": 15
           },
           "zerolinecolor": "white",
           "zerolinewidth": 2
          }
         }
        },
        "title": {
         "text": "[0111] Rigid (MI): Metric difference with Binary64 - Subjects mean"
        },
        "width": 1600,
        "xaxis": {
         "ticks": "outside",
         "tickvals": [
          6,
          7,
          8,
          9,
          10,
          11,
          12,
          13,
          14,
          15,
          16,
          17,
          18,
          19,
          20,
          21,
          22,
          23
         ],
         "title": {
          "text": "Precision (# of bits)"
         }
        },
        "yaxis": {
         "ticks": "outside",
         "tickvals": [
          6,
          7,
          8
         ],
         "title": {
          "text": "Range (# of bits)"
         }
        }
       }
      }
     },
     "metadata": {},
     "output_type": "display_data"
    },
    {
     "name": "stdout",
     "output_type": "stream",
     "text": [
      "zmin: -0.2047,zmax: 0.2047,ref_value: 0.0000,max_abs_diff: 0.2047\n"
     ]
    },
    {
     "data": {
      "application/vnd.plotly.v1+json": {
       "config": {
        "plotlyServerURL": "https://plot.ly"
       },
       "data": [
        {
         "colorscale": [
          [
           0,
           "grey"
          ],
          [
           1,
           "grey"
          ]
         ],
         "showscale": false,
         "type": "heatmap",
         "x": [
          6,
          7,
          8,
          9,
          10,
          11,
          12,
          13,
          14,
          15,
          16,
          17,
          18,
          19,
          20,
          21,
          22,
          23
         ],
         "y": [
          6,
          7,
          8
         ],
         "z": {
          "bdata": "AAAAAAAA8D8AAAAAAADwPwAAAAAAAPA/AAAAAAAA8D8AAAAAAADwPwAAAAAAAPA/AAAAAAAA8D8AAAAAAADwPwAAAAAAAPA/AAAAAAAA8D8AAAAAAADwPwAAAAAAAPA/AAAAAAAA8D8AAAAAAADwPwAAAAAAAPA/AAAAAAAA8D8AAAAAAADwPwAAAAAAAPA/AAAAAAAA8D8AAAAAAAD4fwAAAAAAAPh/AAAAAAAA+H8AAAAAAAD4fwAAAAAAAPh/AAAAAAAA+H8AAAAAAAD4fwAAAAAAAPh/AAAAAAAA+H8AAAAAAAD4fwAAAAAAAPh/AAAAAAAA+H8AAAAAAAD4fwAAAAAAAPh/AAAAAAAA+H8AAAAAAAD4fwAAAAAAAPh/AAAAAAAA8D8AAAAAAAD4fwAAAAAAAPh/AAAAAAAA+H8AAAAAAAD4fwAAAAAAAPh/AAAAAAAA+H8AAAAAAAD4fwAAAAAAAPh/AAAAAAAA+H8AAAAAAAD4fwAAAAAAAPh/AAAAAAAA+H8AAAAAAAD4fwAAAAAAAPh/AAAAAAAA+H8AAAAAAAD4fwAAAAAAAPh/",
          "dtype": "f8",
          "shape": "3, 18"
         }
        },
        {
         "colorscale": [
          [
           0,
           "green"
          ],
          [
           0.5,
           "white"
          ],
          [
           1,
           "red"
          ]
         ],
         "text": [
          [
           "",
           "",
           "",
           "",
           "",
           "",
           "",
           "",
           "",
           "",
           "",
           "",
           "",
           "",
           "",
           "",
           "",
           ""
          ],
          [
           "",
           "0.099<br>± 0.067",
           "0.031<br>± 0.059",
           "0.006<br>± 0.006",
           "0.003<br>± 0.006",
           "0.002<br>± 0.005",
           "0.000<br>± 0.001",
           "0.001<br>± 0.002",
           "0.000<br>± 0.000",
           "0.000<br>± 0.001",
           "0.000<br>± 0.001",
           "0.000<br>± 0.000",
           "0.000<br>± 0.000",
           "-0.000<br>± 0.000",
           "0.000<br>± 0.001",
           "0.000<br>± 0.000",
           "0.000<br>± 0.000",
           "0.000<br>± 0.000"
          ],
          [
           "",
           "0.102<br>± 0.071",
           "0.040<br>± 0.069",
           "0.006<br>± 0.006",
           "0.003<br>± 0.006",
           "0.002<br>± 0.005",
           "0.000<br>± 0.001",
           "0.001<br>± 0.002",
           "0.000<br>± 0.000",
           "0.000<br>± 0.001",
           "0.000<br>± 0.001",
           "0.000<br>± 0.000",
           "0.000<br>± 0.000",
           "0.000<br>± 0.000",
           "0.000<br>± 0.001",
           "0.000<br>± 0.000",
           "0.000<br>± 0.000",
           "0.000<br>± 0.000"
          ]
         ],
         "texttemplate": "%{text}",
         "type": "heatmap",
         "x": [
          6,
          7,
          8,
          9,
          10,
          11,
          12,
          13,
          14,
          15,
          16,
          17,
          18,
          19,
          20,
          21,
          22,
          23
         ],
         "y": [
          6,
          7,
          8
         ],
         "z": {
          "bdata": "AAAAAAAA+H8AAAAAAAD4fwAAAAAAAPh/AAAAAAAA+H8AAAAAAAD4fwAAAAAAAPh/AAAAAAAA+H8AAAAAAAD4fwAAAAAAAPh/AAAAAAAA+H8AAAAAAAD4fwAAAAAAAPh/AAAAAAAA+H8AAAAAAAD4fwAAAAAAAPh/AAAAAAAA+H8AAAAAAAD4fwAAAAAAAPh/AAAAAAAA+H/I8BnUYUW5P+BlnOV+v58/gKzGHWE+eD8AkowDCGFrPwD0j8CKLWA/AKCiohQFJz8ApNqsvYFDPwAAsbBQ5BA/AADXrE0yGj8AGC2KY646PwBwZVlaqio/AKCcih5eEj8AAJOsyGDhvgCwmAA02CU/AAClqhdF8j4A0C17NfQkPwBQla9UMTA/AAAAAAAA+H+QNxtQWiC6P/DT1YLafKQ/gHGWKUs3eD8AkowDCGFrPwD0j8CKLWA/AFBHONHzJD8ApNqsvYFDPwAAsbBQ5BA/AKDb4tHhHj8AiNRXhfE5PwBwZVlaqio/AIBrQbi0+T4AAFkyK+H/PgBA7vN2biY/AAClqhdF8j4AwNL4+AMlPwBA9sXdmi8/",
          "dtype": "f8",
          "shape": "3, 18"
         },
         "zmax": 0.20473772207068003,
         "zmid": 0,
         "zmin": -0.20473772207068003
        }
       ],
       "layout": {
        "annotations": [
         {
          "font": {
           "color": "black"
          },
          "showarrow": false,
          "text": "bfloat16",
          "x": 7,
          "xanchor": "center",
          "y": 8.25,
          "yanchor": "bottom"
         },
         {
          "font": {
           "color": "black"
          },
          "showarrow": false,
          "text": "float32",
          "x": 23,
          "xanchor": "center",
          "y": 8.25,
          "yanchor": "bottom"
         }
        ],
        "height": 400,
        "template": {
         "data": {
          "bar": [
           {
            "error_x": {
             "color": "#2a3f5f"
            },
            "error_y": {
             "color": "#2a3f5f"
            },
            "marker": {
             "line": {
              "color": "#E5ECF6",
              "width": 0.5
             },
             "pattern": {
              "fillmode": "overlay",
              "size": 10,
              "solidity": 0.2
             }
            },
            "type": "bar"
           }
          ],
          "barpolar": [
           {
            "marker": {
             "line": {
              "color": "#E5ECF6",
              "width": 0.5
             },
             "pattern": {
              "fillmode": "overlay",
              "size": 10,
              "solidity": 0.2
             }
            },
            "type": "barpolar"
           }
          ],
          "carpet": [
           {
            "aaxis": {
             "endlinecolor": "#2a3f5f",
             "gridcolor": "white",
             "linecolor": "white",
             "minorgridcolor": "white",
             "startlinecolor": "#2a3f5f"
            },
            "baxis": {
             "endlinecolor": "#2a3f5f",
             "gridcolor": "white",
             "linecolor": "white",
             "minorgridcolor": "white",
             "startlinecolor": "#2a3f5f"
            },
            "type": "carpet"
           }
          ],
          "choropleth": [
           {
            "colorbar": {
             "outlinewidth": 0,
             "ticks": ""
            },
            "type": "choropleth"
           }
          ],
          "contour": [
           {
            "colorbar": {
             "outlinewidth": 0,
             "ticks": ""
            },
            "colorscale": [
             [
              0,
              "#0d0887"
             ],
             [
              0.1111111111111111,
              "#46039f"
             ],
             [
              0.2222222222222222,
              "#7201a8"
             ],
             [
              0.3333333333333333,
              "#9c179e"
             ],
             [
              0.4444444444444444,
              "#bd3786"
             ],
             [
              0.5555555555555556,
              "#d8576b"
             ],
             [
              0.6666666666666666,
              "#ed7953"
             ],
             [
              0.7777777777777778,
              "#fb9f3a"
             ],
             [
              0.8888888888888888,
              "#fdca26"
             ],
             [
              1,
              "#f0f921"
             ]
            ],
            "type": "contour"
           }
          ],
          "contourcarpet": [
           {
            "colorbar": {
             "outlinewidth": 0,
             "ticks": ""
            },
            "type": "contourcarpet"
           }
          ],
          "heatmap": [
           {
            "colorbar": {
             "outlinewidth": 0,
             "ticks": ""
            },
            "colorscale": [
             [
              0,
              "#0d0887"
             ],
             [
              0.1111111111111111,
              "#46039f"
             ],
             [
              0.2222222222222222,
              "#7201a8"
             ],
             [
              0.3333333333333333,
              "#9c179e"
             ],
             [
              0.4444444444444444,
              "#bd3786"
             ],
             [
              0.5555555555555556,
              "#d8576b"
             ],
             [
              0.6666666666666666,
              "#ed7953"
             ],
             [
              0.7777777777777778,
              "#fb9f3a"
             ],
             [
              0.8888888888888888,
              "#fdca26"
             ],
             [
              1,
              "#f0f921"
             ]
            ],
            "type": "heatmap"
           }
          ],
          "histogram": [
           {
            "marker": {
             "pattern": {
              "fillmode": "overlay",
              "size": 10,
              "solidity": 0.2
             }
            },
            "type": "histogram"
           }
          ],
          "histogram2d": [
           {
            "colorbar": {
             "outlinewidth": 0,
             "ticks": ""
            },
            "colorscale": [
             [
              0,
              "#0d0887"
             ],
             [
              0.1111111111111111,
              "#46039f"
             ],
             [
              0.2222222222222222,
              "#7201a8"
             ],
             [
              0.3333333333333333,
              "#9c179e"
             ],
             [
              0.4444444444444444,
              "#bd3786"
             ],
             [
              0.5555555555555556,
              "#d8576b"
             ],
             [
              0.6666666666666666,
              "#ed7953"
             ],
             [
              0.7777777777777778,
              "#fb9f3a"
             ],
             [
              0.8888888888888888,
              "#fdca26"
             ],
             [
              1,
              "#f0f921"
             ]
            ],
            "type": "histogram2d"
           }
          ],
          "histogram2dcontour": [
           {
            "colorbar": {
             "outlinewidth": 0,
             "ticks": ""
            },
            "colorscale": [
             [
              0,
              "#0d0887"
             ],
             [
              0.1111111111111111,
              "#46039f"
             ],
             [
              0.2222222222222222,
              "#7201a8"
             ],
             [
              0.3333333333333333,
              "#9c179e"
             ],
             [
              0.4444444444444444,
              "#bd3786"
             ],
             [
              0.5555555555555556,
              "#d8576b"
             ],
             [
              0.6666666666666666,
              "#ed7953"
             ],
             [
              0.7777777777777778,
              "#fb9f3a"
             ],
             [
              0.8888888888888888,
              "#fdca26"
             ],
             [
              1,
              "#f0f921"
             ]
            ],
            "type": "histogram2dcontour"
           }
          ],
          "mesh3d": [
           {
            "colorbar": {
             "outlinewidth": 0,
             "ticks": ""
            },
            "type": "mesh3d"
           }
          ],
          "parcoords": [
           {
            "line": {
             "colorbar": {
              "outlinewidth": 0,
              "ticks": ""
             }
            },
            "type": "parcoords"
           }
          ],
          "pie": [
           {
            "automargin": true,
            "type": "pie"
           }
          ],
          "scatter": [
           {
            "fillpattern": {
             "fillmode": "overlay",
             "size": 10,
             "solidity": 0.2
            },
            "type": "scatter"
           }
          ],
          "scatter3d": [
           {
            "line": {
             "colorbar": {
              "outlinewidth": 0,
              "ticks": ""
             }
            },
            "marker": {
             "colorbar": {
              "outlinewidth": 0,
              "ticks": ""
             }
            },
            "type": "scatter3d"
           }
          ],
          "scattercarpet": [
           {
            "marker": {
             "colorbar": {
              "outlinewidth": 0,
              "ticks": ""
             }
            },
            "type": "scattercarpet"
           }
          ],
          "scattergeo": [
           {
            "marker": {
             "colorbar": {
              "outlinewidth": 0,
              "ticks": ""
             }
            },
            "type": "scattergeo"
           }
          ],
          "scattergl": [
           {
            "marker": {
             "colorbar": {
              "outlinewidth": 0,
              "ticks": ""
             }
            },
            "type": "scattergl"
           }
          ],
          "scattermap": [
           {
            "marker": {
             "colorbar": {
              "outlinewidth": 0,
              "ticks": ""
             }
            },
            "type": "scattermap"
           }
          ],
          "scattermapbox": [
           {
            "marker": {
             "colorbar": {
              "outlinewidth": 0,
              "ticks": ""
             }
            },
            "type": "scattermapbox"
           }
          ],
          "scatterpolar": [
           {
            "marker": {
             "colorbar": {
              "outlinewidth": 0,
              "ticks": ""
             }
            },
            "type": "scatterpolar"
           }
          ],
          "scatterpolargl": [
           {
            "marker": {
             "colorbar": {
              "outlinewidth": 0,
              "ticks": ""
             }
            },
            "type": "scatterpolargl"
           }
          ],
          "scatterternary": [
           {
            "marker": {
             "colorbar": {
              "outlinewidth": 0,
              "ticks": ""
             }
            },
            "type": "scatterternary"
           }
          ],
          "surface": [
           {
            "colorbar": {
             "outlinewidth": 0,
             "ticks": ""
            },
            "colorscale": [
             [
              0,
              "#0d0887"
             ],
             [
              0.1111111111111111,
              "#46039f"
             ],
             [
              0.2222222222222222,
              "#7201a8"
             ],
             [
              0.3333333333333333,
              "#9c179e"
             ],
             [
              0.4444444444444444,
              "#bd3786"
             ],
             [
              0.5555555555555556,
              "#d8576b"
             ],
             [
              0.6666666666666666,
              "#ed7953"
             ],
             [
              0.7777777777777778,
              "#fb9f3a"
             ],
             [
              0.8888888888888888,
              "#fdca26"
             ],
             [
              1,
              "#f0f921"
             ]
            ],
            "type": "surface"
           }
          ],
          "table": [
           {
            "cells": {
             "fill": {
              "color": "#EBF0F8"
             },
             "line": {
              "color": "white"
             }
            },
            "header": {
             "fill": {
              "color": "#C8D4E3"
             },
             "line": {
              "color": "white"
             }
            },
            "type": "table"
           }
          ]
         },
         "layout": {
          "annotationdefaults": {
           "arrowcolor": "#2a3f5f",
           "arrowhead": 0,
           "arrowwidth": 1
          },
          "autotypenumbers": "strict",
          "coloraxis": {
           "colorbar": {
            "outlinewidth": 0,
            "ticks": ""
           }
          },
          "colorscale": {
           "diverging": [
            [
             0,
             "#8e0152"
            ],
            [
             0.1,
             "#c51b7d"
            ],
            [
             0.2,
             "#de77ae"
            ],
            [
             0.3,
             "#f1b6da"
            ],
            [
             0.4,
             "#fde0ef"
            ],
            [
             0.5,
             "#f7f7f7"
            ],
            [
             0.6,
             "#e6f5d0"
            ],
            [
             0.7,
             "#b8e186"
            ],
            [
             0.8,
             "#7fbc41"
            ],
            [
             0.9,
             "#4d9221"
            ],
            [
             1,
             "#276419"
            ]
           ],
           "sequential": [
            [
             0,
             "#0d0887"
            ],
            [
             0.1111111111111111,
             "#46039f"
            ],
            [
             0.2222222222222222,
             "#7201a8"
            ],
            [
             0.3333333333333333,
             "#9c179e"
            ],
            [
             0.4444444444444444,
             "#bd3786"
            ],
            [
             0.5555555555555556,
             "#d8576b"
            ],
            [
             0.6666666666666666,
             "#ed7953"
            ],
            [
             0.7777777777777778,
             "#fb9f3a"
            ],
            [
             0.8888888888888888,
             "#fdca26"
            ],
            [
             1,
             "#f0f921"
            ]
           ],
           "sequentialminus": [
            [
             0,
             "#0d0887"
            ],
            [
             0.1111111111111111,
             "#46039f"
            ],
            [
             0.2222222222222222,
             "#7201a8"
            ],
            [
             0.3333333333333333,
             "#9c179e"
            ],
            [
             0.4444444444444444,
             "#bd3786"
            ],
            [
             0.5555555555555556,
             "#d8576b"
            ],
            [
             0.6666666666666666,
             "#ed7953"
            ],
            [
             0.7777777777777778,
             "#fb9f3a"
            ],
            [
             0.8888888888888888,
             "#fdca26"
            ],
            [
             1,
             "#f0f921"
            ]
           ]
          },
          "colorway": [
           "#636efa",
           "#EF553B",
           "#00cc96",
           "#ab63fa",
           "#FFA15A",
           "#19d3f3",
           "#FF6692",
           "#B6E880",
           "#FF97FF",
           "#FECB52"
          ],
          "font": {
           "color": "#2a3f5f"
          },
          "geo": {
           "bgcolor": "white",
           "lakecolor": "white",
           "landcolor": "#E5ECF6",
           "showlakes": true,
           "showland": true,
           "subunitcolor": "white"
          },
          "hoverlabel": {
           "align": "left"
          },
          "hovermode": "closest",
          "mapbox": {
           "style": "light"
          },
          "paper_bgcolor": "white",
          "plot_bgcolor": "#E5ECF6",
          "polar": {
           "angularaxis": {
            "gridcolor": "white",
            "linecolor": "white",
            "ticks": ""
           },
           "bgcolor": "#E5ECF6",
           "radialaxis": {
            "gridcolor": "white",
            "linecolor": "white",
            "ticks": ""
           }
          },
          "scene": {
           "xaxis": {
            "backgroundcolor": "#E5ECF6",
            "gridcolor": "white",
            "gridwidth": 2,
            "linecolor": "white",
            "showbackground": true,
            "ticks": "",
            "zerolinecolor": "white"
           },
           "yaxis": {
            "backgroundcolor": "#E5ECF6",
            "gridcolor": "white",
            "gridwidth": 2,
            "linecolor": "white",
            "showbackground": true,
            "ticks": "",
            "zerolinecolor": "white"
           },
           "zaxis": {
            "backgroundcolor": "#E5ECF6",
            "gridcolor": "white",
            "gridwidth": 2,
            "linecolor": "white",
            "showbackground": true,
            "ticks": "",
            "zerolinecolor": "white"
           }
          },
          "shapedefaults": {
           "line": {
            "color": "#2a3f5f"
           }
          },
          "ternary": {
           "aaxis": {
            "gridcolor": "white",
            "linecolor": "white",
            "ticks": ""
           },
           "baxis": {
            "gridcolor": "white",
            "linecolor": "white",
            "ticks": ""
           },
           "bgcolor": "#E5ECF6",
           "caxis": {
            "gridcolor": "white",
            "linecolor": "white",
            "ticks": ""
           }
          },
          "title": {
           "x": 0.05
          },
          "xaxis": {
           "automargin": true,
           "gridcolor": "white",
           "linecolor": "white",
           "ticks": "",
           "title": {
            "standoff": 15
           },
           "zerolinecolor": "white",
           "zerolinewidth": 2
          },
          "yaxis": {
           "automargin": true,
           "gridcolor": "white",
           "linecolor": "white",
           "ticks": "",
           "title": {
            "standoff": 15
           },
           "zerolinecolor": "white",
           "zerolinewidth": 2
          }
         }
        },
        "title": {
         "text": "[0110] Affine (MI): Metric difference with Binary64 - Subjects mean"
        },
        "width": 1600,
        "xaxis": {
         "ticks": "outside",
         "tickvals": [
          6,
          7,
          8,
          9,
          10,
          11,
          12,
          13,
          14,
          15,
          16,
          17,
          18,
          19,
          20,
          21,
          22,
          23
         ],
         "title": {
          "text": "Precision (# of bits)"
         }
        },
        "yaxis": {
         "ticks": "outside",
         "tickvals": [
          6,
          7,
          8
         ],
         "title": {
          "text": "Range (# of bits)"
         }
        }
       }
      }
     },
     "metadata": {},
     "output_type": "display_data"
    },
    {
     "name": "stdout",
     "output_type": "stream",
     "text": [
      "zmin: -0.2047,zmax: 0.2047,ref_value: 0.0000,max_abs_diff: 0.2047\n"
     ]
    },
    {
     "data": {
      "application/vnd.plotly.v1+json": {
       "config": {
        "plotlyServerURL": "https://plot.ly"
       },
       "data": [
        {
         "colorscale": [
          [
           0,
           "grey"
          ],
          [
           1,
           "grey"
          ]
         ],
         "showscale": false,
         "type": "heatmap",
         "x": [
          6,
          7,
          8,
          9,
          10,
          11,
          12,
          13,
          14,
          15,
          16,
          17,
          18,
          19,
          20,
          21,
          22,
          23
         ],
         "y": [
          6,
          7,
          8
         ],
         "z": {
          "bdata": "AAAAAAAA8D8AAAAAAADwPwAAAAAAAPA/AAAAAAAA8D8AAAAAAADwPwAAAAAAAPA/AAAAAAAA8D8AAAAAAADwPwAAAAAAAPA/AAAAAAAA8D8AAAAAAADwPwAAAAAAAPA/AAAAAAAA8D8AAAAAAADwPwAAAAAAAPA/AAAAAAAA8D8AAAAAAADwPwAAAAAAAPA/AAAAAAAA8D8AAAAAAAD4fwAAAAAAAPh/AAAAAAAA+H8AAAAAAAD4fwAAAAAAAPh/AAAAAAAA+H8AAAAAAAD4fwAAAAAAAPh/AAAAAAAA+H8AAAAAAAD4fwAAAAAAAPh/AAAAAAAA+H8AAAAAAAD4fwAAAAAAAPh/AAAAAAAA+H8AAAAAAAD4fwAAAAAAAPh/AAAAAAAA8D8AAAAAAAD4fwAAAAAAAPh/AAAAAAAA+H8AAAAAAAD4fwAAAAAAAPh/AAAAAAAA+H8AAAAAAAD4fwAAAAAAAPh/AAAAAAAA+H8AAAAAAAD4fwAAAAAAAPh/AAAAAAAA+H8AAAAAAAD4fwAAAAAAAPh/AAAAAAAA+H8AAAAAAAD4fwAAAAAAAPh/",
          "dtype": "f8",
          "shape": "3, 18"
         }
        },
        {
         "colorscale": [
          [
           0,
           "green"
          ],
          [
           0.5,
           "white"
          ],
          [
           1,
           "red"
          ]
         ],
         "text": [
          [
           "",
           "",
           "",
           "",
           "",
           "",
           "",
           "",
           "",
           "",
           "",
           "",
           "",
           "",
           "",
           "",
           "",
           ""
          ],
          [
           "",
           "0.099<br>± 0.067",
           "0.031<br>± 0.059",
           "0.006<br>± 0.006",
           "0.003<br>± 0.006",
           "0.002<br>± 0.005",
           "0.000<br>± 0.001",
           "0.001<br>± 0.002",
           "0.000<br>± 0.000",
           "0.000<br>± 0.001",
           "0.000<br>± 0.001",
           "0.000<br>± 0.000",
           "0.000<br>± 0.000",
           "-0.000<br>± 0.000",
           "0.000<br>± 0.001",
           "0.000<br>± 0.000",
           "0.000<br>± 0.000",
           "0.000<br>± 0.000"
          ],
          [
           "",
           "0.102<br>± 0.071",
           "0.040<br>± 0.069",
           "0.006<br>± 0.006",
           "0.003<br>± 0.006",
           "0.002<br>± 0.005",
           "0.000<br>± 0.001",
           "0.001<br>± 0.002",
           "0.000<br>± 0.000",
           "0.000<br>± 0.001",
           "0.000<br>± 0.001",
           "0.000<br>± 0.000",
           "0.000<br>± 0.000",
           "0.000<br>± 0.000",
           "0.000<br>± 0.001",
           "0.000<br>± 0.000",
           "0.000<br>± 0.000",
           "0.000<br>± 0.000"
          ]
         ],
         "texttemplate": "%{text}",
         "type": "heatmap",
         "x": [
          6,
          7,
          8,
          9,
          10,
          11,
          12,
          13,
          14,
          15,
          16,
          17,
          18,
          19,
          20,
          21,
          22,
          23
         ],
         "y": [
          6,
          7,
          8
         ],
         "z": {
          "bdata": "AAAAAAAA+H8AAAAAAAD4fwAAAAAAAPh/AAAAAAAA+H8AAAAAAAD4fwAAAAAAAPh/AAAAAAAA+H8AAAAAAAD4fwAAAAAAAPh/AAAAAAAA+H8AAAAAAAD4fwAAAAAAAPh/AAAAAAAA+H8AAAAAAAD4fwAAAAAAAPh/AAAAAAAA+H8AAAAAAAD4fwAAAAAAAPh/AAAAAAAA+H/I8BnUYUW5P+BlnOV+v58/gKzGHWE+eD8AkowDCGFrPwD0j8CKLWA/AKCiohQFJz8ApNqsvYFDPwAAsbBQ5BA/AADXrE0yGj8AGC2KY646PwBwZVlaqio/AKCcih5eEj8AAJOsyGDhvgCwmAA02CU/AAClqhdF8j4A0C17NfQkPwBQla9UMTA/AAAAAAAA+H+QNxtQWiC6P/DT1YLafKQ/gHGWKUs3eD8AkowDCGFrPwD0j8CKLWA/AFBHONHzJD8ApNqsvYFDPwAAsbBQ5BA/AKDb4tHhHj8AiNRXhfE5PwBwZVlaqio/AIBrQbi0+T4AAFkyK+H/PgBA7vN2biY/AAClqhdF8j4AwNL4+AMlPwBA9sXdmi8/",
          "dtype": "f8",
          "shape": "3, 18"
         },
         "zmax": 0.20473772207068003,
         "zmid": 0,
         "zmin": -0.20473772207068003
        }
       ],
       "layout": {
        "annotations": [
         {
          "font": {
           "color": "black"
          },
          "showarrow": false,
          "text": "bfloat16",
          "x": 7,
          "xanchor": "center",
          "y": 8.25,
          "yanchor": "bottom"
         },
         {
          "font": {
           "color": "black"
          },
          "showarrow": false,
          "text": "float32",
          "x": 23,
          "xanchor": "center",
          "y": 8.25,
          "yanchor": "bottom"
         }
        ],
        "height": 400,
        "template": {
         "data": {
          "bar": [
           {
            "error_x": {
             "color": "#2a3f5f"
            },
            "error_y": {
             "color": "#2a3f5f"
            },
            "marker": {
             "line": {
              "color": "#E5ECF6",
              "width": 0.5
             },
             "pattern": {
              "fillmode": "overlay",
              "size": 10,
              "solidity": 0.2
             }
            },
            "type": "bar"
           }
          ],
          "barpolar": [
           {
            "marker": {
             "line": {
              "color": "#E5ECF6",
              "width": 0.5
             },
             "pattern": {
              "fillmode": "overlay",
              "size": 10,
              "solidity": 0.2
             }
            },
            "type": "barpolar"
           }
          ],
          "carpet": [
           {
            "aaxis": {
             "endlinecolor": "#2a3f5f",
             "gridcolor": "white",
             "linecolor": "white",
             "minorgridcolor": "white",
             "startlinecolor": "#2a3f5f"
            },
            "baxis": {
             "endlinecolor": "#2a3f5f",
             "gridcolor": "white",
             "linecolor": "white",
             "minorgridcolor": "white",
             "startlinecolor": "#2a3f5f"
            },
            "type": "carpet"
           }
          ],
          "choropleth": [
           {
            "colorbar": {
             "outlinewidth": 0,
             "ticks": ""
            },
            "type": "choropleth"
           }
          ],
          "contour": [
           {
            "colorbar": {
             "outlinewidth": 0,
             "ticks": ""
            },
            "colorscale": [
             [
              0,
              "#0d0887"
             ],
             [
              0.1111111111111111,
              "#46039f"
             ],
             [
              0.2222222222222222,
              "#7201a8"
             ],
             [
              0.3333333333333333,
              "#9c179e"
             ],
             [
              0.4444444444444444,
              "#bd3786"
             ],
             [
              0.5555555555555556,
              "#d8576b"
             ],
             [
              0.6666666666666666,
              "#ed7953"
             ],
             [
              0.7777777777777778,
              "#fb9f3a"
             ],
             [
              0.8888888888888888,
              "#fdca26"
             ],
             [
              1,
              "#f0f921"
             ]
            ],
            "type": "contour"
           }
          ],
          "contourcarpet": [
           {
            "colorbar": {
             "outlinewidth": 0,
             "ticks": ""
            },
            "type": "contourcarpet"
           }
          ],
          "heatmap": [
           {
            "colorbar": {
             "outlinewidth": 0,
             "ticks": ""
            },
            "colorscale": [
             [
              0,
              "#0d0887"
             ],
             [
              0.1111111111111111,
              "#46039f"
             ],
             [
              0.2222222222222222,
              "#7201a8"
             ],
             [
              0.3333333333333333,
              "#9c179e"
             ],
             [
              0.4444444444444444,
              "#bd3786"
             ],
             [
              0.5555555555555556,
              "#d8576b"
             ],
             [
              0.6666666666666666,
              "#ed7953"
             ],
             [
              0.7777777777777778,
              "#fb9f3a"
             ],
             [
              0.8888888888888888,
              "#fdca26"
             ],
             [
              1,
              "#f0f921"
             ]
            ],
            "type": "heatmap"
           }
          ],
          "histogram": [
           {
            "marker": {
             "pattern": {
              "fillmode": "overlay",
              "size": 10,
              "solidity": 0.2
             }
            },
            "type": "histogram"
           }
          ],
          "histogram2d": [
           {
            "colorbar": {
             "outlinewidth": 0,
             "ticks": ""
            },
            "colorscale": [
             [
              0,
              "#0d0887"
             ],
             [
              0.1111111111111111,
              "#46039f"
             ],
             [
              0.2222222222222222,
              "#7201a8"
             ],
             [
              0.3333333333333333,
              "#9c179e"
             ],
             [
              0.4444444444444444,
              "#bd3786"
             ],
             [
              0.5555555555555556,
              "#d8576b"
             ],
             [
              0.6666666666666666,
              "#ed7953"
             ],
             [
              0.7777777777777778,
              "#fb9f3a"
             ],
             [
              0.8888888888888888,
              "#fdca26"
             ],
             [
              1,
              "#f0f921"
             ]
            ],
            "type": "histogram2d"
           }
          ],
          "histogram2dcontour": [
           {
            "colorbar": {
             "outlinewidth": 0,
             "ticks": ""
            },
            "colorscale": [
             [
              0,
              "#0d0887"
             ],
             [
              0.1111111111111111,
              "#46039f"
             ],
             [
              0.2222222222222222,
              "#7201a8"
             ],
             [
              0.3333333333333333,
              "#9c179e"
             ],
             [
              0.4444444444444444,
              "#bd3786"
             ],
             [
              0.5555555555555556,
              "#d8576b"
             ],
             [
              0.6666666666666666,
              "#ed7953"
             ],
             [
              0.7777777777777778,
              "#fb9f3a"
             ],
             [
              0.8888888888888888,
              "#fdca26"
             ],
             [
              1,
              "#f0f921"
             ]
            ],
            "type": "histogram2dcontour"
           }
          ],
          "mesh3d": [
           {
            "colorbar": {
             "outlinewidth": 0,
             "ticks": ""
            },
            "type": "mesh3d"
           }
          ],
          "parcoords": [
           {
            "line": {
             "colorbar": {
              "outlinewidth": 0,
              "ticks": ""
             }
            },
            "type": "parcoords"
           }
          ],
          "pie": [
           {
            "automargin": true,
            "type": "pie"
           }
          ],
          "scatter": [
           {
            "fillpattern": {
             "fillmode": "overlay",
             "size": 10,
             "solidity": 0.2
            },
            "type": "scatter"
           }
          ],
          "scatter3d": [
           {
            "line": {
             "colorbar": {
              "outlinewidth": 0,
              "ticks": ""
             }
            },
            "marker": {
             "colorbar": {
              "outlinewidth": 0,
              "ticks": ""
             }
            },
            "type": "scatter3d"
           }
          ],
          "scattercarpet": [
           {
            "marker": {
             "colorbar": {
              "outlinewidth": 0,
              "ticks": ""
             }
            },
            "type": "scattercarpet"
           }
          ],
          "scattergeo": [
           {
            "marker": {
             "colorbar": {
              "outlinewidth": 0,
              "ticks": ""
             }
            },
            "type": "scattergeo"
           }
          ],
          "scattergl": [
           {
            "marker": {
             "colorbar": {
              "outlinewidth": 0,
              "ticks": ""
             }
            },
            "type": "scattergl"
           }
          ],
          "scattermap": [
           {
            "marker": {
             "colorbar": {
              "outlinewidth": 0,
              "ticks": ""
             }
            },
            "type": "scattermap"
           }
          ],
          "scattermapbox": [
           {
            "marker": {
             "colorbar": {
              "outlinewidth": 0,
              "ticks": ""
             }
            },
            "type": "scattermapbox"
           }
          ],
          "scatterpolar": [
           {
            "marker": {
             "colorbar": {
              "outlinewidth": 0,
              "ticks": ""
             }
            },
            "type": "scatterpolar"
           }
          ],
          "scatterpolargl": [
           {
            "marker": {
             "colorbar": {
              "outlinewidth": 0,
              "ticks": ""
             }
            },
            "type": "scatterpolargl"
           }
          ],
          "scatterternary": [
           {
            "marker": {
             "colorbar": {
              "outlinewidth": 0,
              "ticks": ""
             }
            },
            "type": "scatterternary"
           }
          ],
          "surface": [
           {
            "colorbar": {
             "outlinewidth": 0,
             "ticks": ""
            },
            "colorscale": [
             [
              0,
              "#0d0887"
             ],
             [
              0.1111111111111111,
              "#46039f"
             ],
             [
              0.2222222222222222,
              "#7201a8"
             ],
             [
              0.3333333333333333,
              "#9c179e"
             ],
             [
              0.4444444444444444,
              "#bd3786"
             ],
             [
              0.5555555555555556,
              "#d8576b"
             ],
             [
              0.6666666666666666,
              "#ed7953"
             ],
             [
              0.7777777777777778,
              "#fb9f3a"
             ],
             [
              0.8888888888888888,
              "#fdca26"
             ],
             [
              1,
              "#f0f921"
             ]
            ],
            "type": "surface"
           }
          ],
          "table": [
           {
            "cells": {
             "fill": {
              "color": "#EBF0F8"
             },
             "line": {
              "color": "white"
             }
            },
            "header": {
             "fill": {
              "color": "#C8D4E3"
             },
             "line": {
              "color": "white"
             }
            },
            "type": "table"
           }
          ]
         },
         "layout": {
          "annotationdefaults": {
           "arrowcolor": "#2a3f5f",
           "arrowhead": 0,
           "arrowwidth": 1
          },
          "autotypenumbers": "strict",
          "coloraxis": {
           "colorbar": {
            "outlinewidth": 0,
            "ticks": ""
           }
          },
          "colorscale": {
           "diverging": [
            [
             0,
             "#8e0152"
            ],
            [
             0.1,
             "#c51b7d"
            ],
            [
             0.2,
             "#de77ae"
            ],
            [
             0.3,
             "#f1b6da"
            ],
            [
             0.4,
             "#fde0ef"
            ],
            [
             0.5,
             "#f7f7f7"
            ],
            [
             0.6,
             "#e6f5d0"
            ],
            [
             0.7,
             "#b8e186"
            ],
            [
             0.8,
             "#7fbc41"
            ],
            [
             0.9,
             "#4d9221"
            ],
            [
             1,
             "#276419"
            ]
           ],
           "sequential": [
            [
             0,
             "#0d0887"
            ],
            [
             0.1111111111111111,
             "#46039f"
            ],
            [
             0.2222222222222222,
             "#7201a8"
            ],
            [
             0.3333333333333333,
             "#9c179e"
            ],
            [
             0.4444444444444444,
             "#bd3786"
            ],
            [
             0.5555555555555556,
             "#d8576b"
            ],
            [
             0.6666666666666666,
             "#ed7953"
            ],
            [
             0.7777777777777778,
             "#fb9f3a"
            ],
            [
             0.8888888888888888,
             "#fdca26"
            ],
            [
             1,
             "#f0f921"
            ]
           ],
           "sequentialminus": [
            [
             0,
             "#0d0887"
            ],
            [
             0.1111111111111111,
             "#46039f"
            ],
            [
             0.2222222222222222,
             "#7201a8"
            ],
            [
             0.3333333333333333,
             "#9c179e"
            ],
            [
             0.4444444444444444,
             "#bd3786"
            ],
            [
             0.5555555555555556,
             "#d8576b"
            ],
            [
             0.6666666666666666,
             "#ed7953"
            ],
            [
             0.7777777777777778,
             "#fb9f3a"
            ],
            [
             0.8888888888888888,
             "#fdca26"
            ],
            [
             1,
             "#f0f921"
            ]
           ]
          },
          "colorway": [
           "#636efa",
           "#EF553B",
           "#00cc96",
           "#ab63fa",
           "#FFA15A",
           "#19d3f3",
           "#FF6692",
           "#B6E880",
           "#FF97FF",
           "#FECB52"
          ],
          "font": {
           "color": "#2a3f5f"
          },
          "geo": {
           "bgcolor": "white",
           "lakecolor": "white",
           "landcolor": "#E5ECF6",
           "showlakes": true,
           "showland": true,
           "subunitcolor": "white"
          },
          "hoverlabel": {
           "align": "left"
          },
          "hovermode": "closest",
          "mapbox": {
           "style": "light"
          },
          "paper_bgcolor": "white",
          "plot_bgcolor": "#E5ECF6",
          "polar": {
           "angularaxis": {
            "gridcolor": "white",
            "linecolor": "white",
            "ticks": ""
           },
           "bgcolor": "#E5ECF6",
           "radialaxis": {
            "gridcolor": "white",
            "linecolor": "white",
            "ticks": ""
           }
          },
          "scene": {
           "xaxis": {
            "backgroundcolor": "#E5ECF6",
            "gridcolor": "white",
            "gridwidth": 2,
            "linecolor": "white",
            "showbackground": true,
            "ticks": "",
            "zerolinecolor": "white"
           },
           "yaxis": {
            "backgroundcolor": "#E5ECF6",
            "gridcolor": "white",
            "gridwidth": 2,
            "linecolor": "white",
            "showbackground": true,
            "ticks": "",
            "zerolinecolor": "white"
           },
           "zaxis": {
            "backgroundcolor": "#E5ECF6",
            "gridcolor": "white",
            "gridwidth": 2,
            "linecolor": "white",
            "showbackground": true,
            "ticks": "",
            "zerolinecolor": "white"
           }
          },
          "shapedefaults": {
           "line": {
            "color": "#2a3f5f"
           }
          },
          "ternary": {
           "aaxis": {
            "gridcolor": "white",
            "linecolor": "white",
            "ticks": ""
           },
           "baxis": {
            "gridcolor": "white",
            "linecolor": "white",
            "ticks": ""
           },
           "bgcolor": "#E5ECF6",
           "caxis": {
            "gridcolor": "white",
            "linecolor": "white",
            "ticks": ""
           }
          },
          "title": {
           "x": 0.05
          },
          "xaxis": {
           "automargin": true,
           "gridcolor": "white",
           "linecolor": "white",
           "ticks": "",
           "title": {
            "standoff": 15
           },
           "zerolinecolor": "white",
           "zerolinewidth": 2
          },
          "yaxis": {
           "automargin": true,
           "gridcolor": "white",
           "linecolor": "white",
           "ticks": "",
           "title": {
            "standoff": 15
           },
           "zerolinecolor": "white",
           "zerolinewidth": 2
          }
         }
        },
        "title": {
         "text": "[0111] Affine (MI): Metric difference with Binary64 - Subjects mean"
        },
        "width": 1600,
        "xaxis": {
         "ticks": "outside",
         "tickvals": [
          6,
          7,
          8,
          9,
          10,
          11,
          12,
          13,
          14,
          15,
          16,
          17,
          18,
          19,
          20,
          21,
          22,
          23
         ],
         "title": {
          "text": "Precision (# of bits)"
         }
        },
        "yaxis": {
         "ticks": "outside",
         "tickvals": [
          6,
          7,
          8
         ],
         "title": {
          "text": "Range (# of bits)"
         }
        }
       }
      }
     },
     "metadata": {},
     "output_type": "display_data"
    },
    {
     "name": "stdout",
     "output_type": "stream",
     "text": [
      "zmin: -0.1122,zmax: 0.1122,ref_value: 0.0000,max_abs_diff: 0.1122\n"
     ]
    },
    {
     "data": {
      "application/vnd.plotly.v1+json": {
       "config": {
        "plotlyServerURL": "https://plot.ly"
       },
       "data": [
        {
         "colorscale": [
          [
           0,
           "grey"
          ],
          [
           1,
           "grey"
          ]
         ],
         "showscale": false,
         "type": "heatmap",
         "x": [
          6,
          7,
          8,
          9,
          10,
          11,
          12,
          13,
          14,
          15,
          16,
          17,
          18,
          19,
          20,
          21,
          22,
          23
         ],
         "y": [
          6,
          7,
          8
         ],
         "z": {
          "bdata": "AAAAAAAA8D8AAAAAAADwPwAAAAAAAPA/AAAAAAAA8D8AAAAAAADwPwAAAAAAAPA/AAAAAAAA8D8AAAAAAADwPwAAAAAAAPA/AAAAAAAA8D8AAAAAAADwPwAAAAAAAPA/AAAAAAAA8D8AAAAAAADwPwAAAAAAAPA/AAAAAAAA8D8AAAAAAADwPwAAAAAAAPA/AAAAAAAA8D8AAAAAAAD4fwAAAAAAAPh/AAAAAAAA+H8AAAAAAAD4fwAAAAAAAPh/AAAAAAAA+H8AAAAAAAD4fwAAAAAAAPh/AAAAAAAA+H8AAAAAAAD4fwAAAAAAAPh/AAAAAAAA+H8AAAAAAAD4fwAAAAAAAPh/AAAAAAAA+H8AAAAAAAD4fwAAAAAAAPh/AAAAAAAA8D8AAAAAAAD4fwAAAAAAAPh/AAAAAAAA+H8AAAAAAAD4fwAAAAAAAPh/AAAAAAAA+H8AAAAAAAD4fwAAAAAAAPh/AAAAAAAA+H8AAAAAAAD4fwAAAAAAAPh/AAAAAAAA+H8AAAAAAAD4fwAAAAAAAPh/AAAAAAAA+H8AAAAAAAD4fwAAAAAAAPh/",
          "dtype": "f8",
          "shape": "3, 18"
         }
        },
        {
         "colorscale": [
          [
           0,
           "green"
          ],
          [
           0.5,
           "white"
          ],
          [
           1,
           "red"
          ]
         ],
         "text": [
          [
           "",
           "",
           "",
           "",
           "",
           "",
           "",
           "",
           "",
           "",
           "",
           "",
           "",
           "",
           "",
           "",
           "",
           ""
          ],
          [
           "",
           "-0.008<br>± 0.009",
           "-0.001<br>± 0.005",
           "0.000<br>± 0.001",
           "0.001<br>± 0.003",
           "0.000<br>± 0.002",
           "-0.000<br>± 0.002",
           "0.000<br>± 0.002",
           "0.000<br>± 0.001",
           "0.000<br>± 0.001",
           "0.001<br>± 0.002",
           "0.000<br>± 0.001",
           "0.000<br>± 0.000",
           "0.000<br>± 0.000",
           "0.000<br>± 0.001",
           "-0.000<br>± 0.000",
           "0.000<br>± 0.000",
           "0.000<br>± 0.001"
          ],
          [
           "",
           "-0.008<br>± 0.008",
           "-0.001<br>± 0.006",
           "0.000<br>± 0.001",
           "0.001<br>± 0.003",
           "0.000<br>± 0.002",
           "-0.000<br>± 0.002",
           "0.000<br>± 0.002",
           "0.000<br>± 0.001",
           "0.000<br>± 0.001",
           "0.000<br>± 0.002",
           "0.000<br>± 0.001",
           "0.000<br>± 0.000",
           "-0.000<br>± 0.001",
           "0.000<br>± 0.001",
           "-0.000<br>± 0.000",
           "0.000<br>± 0.000",
           "0.000<br>± 0.001"
          ]
         ],
         "texttemplate": "%{text}",
         "type": "heatmap",
         "x": [
          6,
          7,
          8,
          9,
          10,
          11,
          12,
          13,
          14,
          15,
          16,
          17,
          18,
          19,
          20,
          21,
          22,
          23
         ],
         "y": [
          6,
          7,
          8
         ],
         "z": {
          "bdata": "AAAAAAAA+H8AAAAAAAD4fwAAAAAAAPh/AAAAAAAA+H8AAAAAAAD4fwAAAAAAAPh/AAAAAAAA+H8AAAAAAAD4fwAAAAAAAPh/AAAAAAAA+H8AAAAAAAD4fwAAAAAAAPh/AAAAAAAA+H8AAAAAAAD4fwAAAAAAAPh/AAAAAAAA+H8AAAAAAAD4fwAAAAAAAPh/AAAAAAAA+H/AS5LveoeAvwBcT4gS9Eq/AEBHbGqPBT8A+PpoYftFPwCQz1uQuSU/AIAFLskB/74AyMPoqBE5PwAAAzKTEvI+ADBAENeqLD8AbJ48alFCPwDQOvKT7S8/AEBK1d6BDj8AAKL22jUHPwBYEKTtcDE/AOC8yQdgE78AICitHfAQPwAQHbs7zyI/AAAAAAAA+H+ACtDRlB6AvwCGJnFjPFe/AIAhuNKi+z4A+PpoYftFPwCQz1uQuSU/AEAJJ5n+Dr8AyMPoqBE5PwAAAzKTEvI+AOAK5bvWLj8AwJ+o4p4/PwDQOvKT7S8/AADPd3Cg8D4AgIRUxTYOvwCYqBhEWzA/AOC8yQdgE78AINfeReUQPwCwRoL9OiI/",
          "dtype": "f8",
          "shape": "3, 18"
         },
         "zmax": 0.11218364962987015,
         "zmid": 0,
         "zmin": -0.11218364962987015
        }
       ],
       "layout": {
        "annotations": [
         {
          "font": {
           "color": "black"
          },
          "showarrow": false,
          "text": "bfloat16",
          "x": 7,
          "xanchor": "center",
          "y": 8.25,
          "yanchor": "bottom"
         },
         {
          "font": {
           "color": "black"
          },
          "showarrow": false,
          "text": "float32",
          "x": 23,
          "xanchor": "center",
          "y": 8.25,
          "yanchor": "bottom"
         }
        ],
        "height": 400,
        "template": {
         "data": {
          "bar": [
           {
            "error_x": {
             "color": "#2a3f5f"
            },
            "error_y": {
             "color": "#2a3f5f"
            },
            "marker": {
             "line": {
              "color": "#E5ECF6",
              "width": 0.5
             },
             "pattern": {
              "fillmode": "overlay",
              "size": 10,
              "solidity": 0.2
             }
            },
            "type": "bar"
           }
          ],
          "barpolar": [
           {
            "marker": {
             "line": {
              "color": "#E5ECF6",
              "width": 0.5
             },
             "pattern": {
              "fillmode": "overlay",
              "size": 10,
              "solidity": 0.2
             }
            },
            "type": "barpolar"
           }
          ],
          "carpet": [
           {
            "aaxis": {
             "endlinecolor": "#2a3f5f",
             "gridcolor": "white",
             "linecolor": "white",
             "minorgridcolor": "white",
             "startlinecolor": "#2a3f5f"
            },
            "baxis": {
             "endlinecolor": "#2a3f5f",
             "gridcolor": "white",
             "linecolor": "white",
             "minorgridcolor": "white",
             "startlinecolor": "#2a3f5f"
            },
            "type": "carpet"
           }
          ],
          "choropleth": [
           {
            "colorbar": {
             "outlinewidth": 0,
             "ticks": ""
            },
            "type": "choropleth"
           }
          ],
          "contour": [
           {
            "colorbar": {
             "outlinewidth": 0,
             "ticks": ""
            },
            "colorscale": [
             [
              0,
              "#0d0887"
             ],
             [
              0.1111111111111111,
              "#46039f"
             ],
             [
              0.2222222222222222,
              "#7201a8"
             ],
             [
              0.3333333333333333,
              "#9c179e"
             ],
             [
              0.4444444444444444,
              "#bd3786"
             ],
             [
              0.5555555555555556,
              "#d8576b"
             ],
             [
              0.6666666666666666,
              "#ed7953"
             ],
             [
              0.7777777777777778,
              "#fb9f3a"
             ],
             [
              0.8888888888888888,
              "#fdca26"
             ],
             [
              1,
              "#f0f921"
             ]
            ],
            "type": "contour"
           }
          ],
          "contourcarpet": [
           {
            "colorbar": {
             "outlinewidth": 0,
             "ticks": ""
            },
            "type": "contourcarpet"
           }
          ],
          "heatmap": [
           {
            "colorbar": {
             "outlinewidth": 0,
             "ticks": ""
            },
            "colorscale": [
             [
              0,
              "#0d0887"
             ],
             [
              0.1111111111111111,
              "#46039f"
             ],
             [
              0.2222222222222222,
              "#7201a8"
             ],
             [
              0.3333333333333333,
              "#9c179e"
             ],
             [
              0.4444444444444444,
              "#bd3786"
             ],
             [
              0.5555555555555556,
              "#d8576b"
             ],
             [
              0.6666666666666666,
              "#ed7953"
             ],
             [
              0.7777777777777778,
              "#fb9f3a"
             ],
             [
              0.8888888888888888,
              "#fdca26"
             ],
             [
              1,
              "#f0f921"
             ]
            ],
            "type": "heatmap"
           }
          ],
          "histogram": [
           {
            "marker": {
             "pattern": {
              "fillmode": "overlay",
              "size": 10,
              "solidity": 0.2
             }
            },
            "type": "histogram"
           }
          ],
          "histogram2d": [
           {
            "colorbar": {
             "outlinewidth": 0,
             "ticks": ""
            },
            "colorscale": [
             [
              0,
              "#0d0887"
             ],
             [
              0.1111111111111111,
              "#46039f"
             ],
             [
              0.2222222222222222,
              "#7201a8"
             ],
             [
              0.3333333333333333,
              "#9c179e"
             ],
             [
              0.4444444444444444,
              "#bd3786"
             ],
             [
              0.5555555555555556,
              "#d8576b"
             ],
             [
              0.6666666666666666,
              "#ed7953"
             ],
             [
              0.7777777777777778,
              "#fb9f3a"
             ],
             [
              0.8888888888888888,
              "#fdca26"
             ],
             [
              1,
              "#f0f921"
             ]
            ],
            "type": "histogram2d"
           }
          ],
          "histogram2dcontour": [
           {
            "colorbar": {
             "outlinewidth": 0,
             "ticks": ""
            },
            "colorscale": [
             [
              0,
              "#0d0887"
             ],
             [
              0.1111111111111111,
              "#46039f"
             ],
             [
              0.2222222222222222,
              "#7201a8"
             ],
             [
              0.3333333333333333,
              "#9c179e"
             ],
             [
              0.4444444444444444,
              "#bd3786"
             ],
             [
              0.5555555555555556,
              "#d8576b"
             ],
             [
              0.6666666666666666,
              "#ed7953"
             ],
             [
              0.7777777777777778,
              "#fb9f3a"
             ],
             [
              0.8888888888888888,
              "#fdca26"
             ],
             [
              1,
              "#f0f921"
             ]
            ],
            "type": "histogram2dcontour"
           }
          ],
          "mesh3d": [
           {
            "colorbar": {
             "outlinewidth": 0,
             "ticks": ""
            },
            "type": "mesh3d"
           }
          ],
          "parcoords": [
           {
            "line": {
             "colorbar": {
              "outlinewidth": 0,
              "ticks": ""
             }
            },
            "type": "parcoords"
           }
          ],
          "pie": [
           {
            "automargin": true,
            "type": "pie"
           }
          ],
          "scatter": [
           {
            "fillpattern": {
             "fillmode": "overlay",
             "size": 10,
             "solidity": 0.2
            },
            "type": "scatter"
           }
          ],
          "scatter3d": [
           {
            "line": {
             "colorbar": {
              "outlinewidth": 0,
              "ticks": ""
             }
            },
            "marker": {
             "colorbar": {
              "outlinewidth": 0,
              "ticks": ""
             }
            },
            "type": "scatter3d"
           }
          ],
          "scattercarpet": [
           {
            "marker": {
             "colorbar": {
              "outlinewidth": 0,
              "ticks": ""
             }
            },
            "type": "scattercarpet"
           }
          ],
          "scattergeo": [
           {
            "marker": {
             "colorbar": {
              "outlinewidth": 0,
              "ticks": ""
             }
            },
            "type": "scattergeo"
           }
          ],
          "scattergl": [
           {
            "marker": {
             "colorbar": {
              "outlinewidth": 0,
              "ticks": ""
             }
            },
            "type": "scattergl"
           }
          ],
          "scattermap": [
           {
            "marker": {
             "colorbar": {
              "outlinewidth": 0,
              "ticks": ""
             }
            },
            "type": "scattermap"
           }
          ],
          "scattermapbox": [
           {
            "marker": {
             "colorbar": {
              "outlinewidth": 0,
              "ticks": ""
             }
            },
            "type": "scattermapbox"
           }
          ],
          "scatterpolar": [
           {
            "marker": {
             "colorbar": {
              "outlinewidth": 0,
              "ticks": ""
             }
            },
            "type": "scatterpolar"
           }
          ],
          "scatterpolargl": [
           {
            "marker": {
             "colorbar": {
              "outlinewidth": 0,
              "ticks": ""
             }
            },
            "type": "scatterpolargl"
           }
          ],
          "scatterternary": [
           {
            "marker": {
             "colorbar": {
              "outlinewidth": 0,
              "ticks": ""
             }
            },
            "type": "scatterternary"
           }
          ],
          "surface": [
           {
            "colorbar": {
             "outlinewidth": 0,
             "ticks": ""
            },
            "colorscale": [
             [
              0,
              "#0d0887"
             ],
             [
              0.1111111111111111,
              "#46039f"
             ],
             [
              0.2222222222222222,
              "#7201a8"
             ],
             [
              0.3333333333333333,
              "#9c179e"
             ],
             [
              0.4444444444444444,
              "#bd3786"
             ],
             [
              0.5555555555555556,
              "#d8576b"
             ],
             [
              0.6666666666666666,
              "#ed7953"
             ],
             [
              0.7777777777777778,
              "#fb9f3a"
             ],
             [
              0.8888888888888888,
              "#fdca26"
             ],
             [
              1,
              "#f0f921"
             ]
            ],
            "type": "surface"
           }
          ],
          "table": [
           {
            "cells": {
             "fill": {
              "color": "#EBF0F8"
             },
             "line": {
              "color": "white"
             }
            },
            "header": {
             "fill": {
              "color": "#C8D4E3"
             },
             "line": {
              "color": "white"
             }
            },
            "type": "table"
           }
          ]
         },
         "layout": {
          "annotationdefaults": {
           "arrowcolor": "#2a3f5f",
           "arrowhead": 0,
           "arrowwidth": 1
          },
          "autotypenumbers": "strict",
          "coloraxis": {
           "colorbar": {
            "outlinewidth": 0,
            "ticks": ""
           }
          },
          "colorscale": {
           "diverging": [
            [
             0,
             "#8e0152"
            ],
            [
             0.1,
             "#c51b7d"
            ],
            [
             0.2,
             "#de77ae"
            ],
            [
             0.3,
             "#f1b6da"
            ],
            [
             0.4,
             "#fde0ef"
            ],
            [
             0.5,
             "#f7f7f7"
            ],
            [
             0.6,
             "#e6f5d0"
            ],
            [
             0.7,
             "#b8e186"
            ],
            [
             0.8,
             "#7fbc41"
            ],
            [
             0.9,
             "#4d9221"
            ],
            [
             1,
             "#276419"
            ]
           ],
           "sequential": [
            [
             0,
             "#0d0887"
            ],
            [
             0.1111111111111111,
             "#46039f"
            ],
            [
             0.2222222222222222,
             "#7201a8"
            ],
            [
             0.3333333333333333,
             "#9c179e"
            ],
            [
             0.4444444444444444,
             "#bd3786"
            ],
            [
             0.5555555555555556,
             "#d8576b"
            ],
            [
             0.6666666666666666,
             "#ed7953"
            ],
            [
             0.7777777777777778,
             "#fb9f3a"
            ],
            [
             0.8888888888888888,
             "#fdca26"
            ],
            [
             1,
             "#f0f921"
            ]
           ],
           "sequentialminus": [
            [
             0,
             "#0d0887"
            ],
            [
             0.1111111111111111,
             "#46039f"
            ],
            [
             0.2222222222222222,
             "#7201a8"
            ],
            [
             0.3333333333333333,
             "#9c179e"
            ],
            [
             0.4444444444444444,
             "#bd3786"
            ],
            [
             0.5555555555555556,
             "#d8576b"
            ],
            [
             0.6666666666666666,
             "#ed7953"
            ],
            [
             0.7777777777777778,
             "#fb9f3a"
            ],
            [
             0.8888888888888888,
             "#fdca26"
            ],
            [
             1,
             "#f0f921"
            ]
           ]
          },
          "colorway": [
           "#636efa",
           "#EF553B",
           "#00cc96",
           "#ab63fa",
           "#FFA15A",
           "#19d3f3",
           "#FF6692",
           "#B6E880",
           "#FF97FF",
           "#FECB52"
          ],
          "font": {
           "color": "#2a3f5f"
          },
          "geo": {
           "bgcolor": "white",
           "lakecolor": "white",
           "landcolor": "#E5ECF6",
           "showlakes": true,
           "showland": true,
           "subunitcolor": "white"
          },
          "hoverlabel": {
           "align": "left"
          },
          "hovermode": "closest",
          "mapbox": {
           "style": "light"
          },
          "paper_bgcolor": "white",
          "plot_bgcolor": "#E5ECF6",
          "polar": {
           "angularaxis": {
            "gridcolor": "white",
            "linecolor": "white",
            "ticks": ""
           },
           "bgcolor": "#E5ECF6",
           "radialaxis": {
            "gridcolor": "white",
            "linecolor": "white",
            "ticks": ""
           }
          },
          "scene": {
           "xaxis": {
            "backgroundcolor": "#E5ECF6",
            "gridcolor": "white",
            "gridwidth": 2,
            "linecolor": "white",
            "showbackground": true,
            "ticks": "",
            "zerolinecolor": "white"
           },
           "yaxis": {
            "backgroundcolor": "#E5ECF6",
            "gridcolor": "white",
            "gridwidth": 2,
            "linecolor": "white",
            "showbackground": true,
            "ticks": "",
            "zerolinecolor": "white"
           },
           "zaxis": {
            "backgroundcolor": "#E5ECF6",
            "gridcolor": "white",
            "gridwidth": 2,
            "linecolor": "white",
            "showbackground": true,
            "ticks": "",
            "zerolinecolor": "white"
           }
          },
          "shapedefaults": {
           "line": {
            "color": "#2a3f5f"
           }
          },
          "ternary": {
           "aaxis": {
            "gridcolor": "white",
            "linecolor": "white",
            "ticks": ""
           },
           "baxis": {
            "gridcolor": "white",
            "linecolor": "white",
            "ticks": ""
           },
           "bgcolor": "#E5ECF6",
           "caxis": {
            "gridcolor": "white",
            "linecolor": "white",
            "ticks": ""
           }
          },
          "title": {
           "x": 0.05
          },
          "xaxis": {
           "automargin": true,
           "gridcolor": "white",
           "linecolor": "white",
           "ticks": "",
           "title": {
            "standoff": 15
           },
           "zerolinecolor": "white",
           "zerolinewidth": 2
          },
          "yaxis": {
           "automargin": true,
           "gridcolor": "white",
           "linecolor": "white",
           "ticks": "",
           "title": {
            "standoff": 15
           },
           "zerolinecolor": "white",
           "zerolinewidth": 2
          }
         }
        },
        "title": {
         "text": "[0110] Syn (CC): Metric difference with Binary64 - Subjects mean"
        },
        "width": 1600,
        "xaxis": {
         "ticks": "outside",
         "tickvals": [
          6,
          7,
          8,
          9,
          10,
          11,
          12,
          13,
          14,
          15,
          16,
          17,
          18,
          19,
          20,
          21,
          22,
          23
         ],
         "title": {
          "text": "Precision (# of bits)"
         }
        },
        "yaxis": {
         "ticks": "outside",
         "tickvals": [
          6,
          7,
          8
         ],
         "title": {
          "text": "Range (# of bits)"
         }
        }
       }
      }
     },
     "metadata": {},
     "output_type": "display_data"
    },
    {
     "name": "stdout",
     "output_type": "stream",
     "text": [
      "zmin: -0.1122,zmax: 0.1122,ref_value: 0.0000,max_abs_diff: 0.1122\n"
     ]
    },
    {
     "data": {
      "application/vnd.plotly.v1+json": {
       "config": {
        "plotlyServerURL": "https://plot.ly"
       },
       "data": [
        {
         "colorscale": [
          [
           0,
           "grey"
          ],
          [
           1,
           "grey"
          ]
         ],
         "showscale": false,
         "type": "heatmap",
         "x": [
          6,
          7,
          8,
          9,
          10,
          11,
          12,
          13,
          14,
          15,
          16,
          17,
          18,
          19,
          20,
          21,
          22,
          23
         ],
         "y": [
          6,
          7,
          8
         ],
         "z": {
          "bdata": "AAAAAAAA8D8AAAAAAADwPwAAAAAAAPA/AAAAAAAA8D8AAAAAAADwPwAAAAAAAPA/AAAAAAAA8D8AAAAAAADwPwAAAAAAAPA/AAAAAAAA8D8AAAAAAADwPwAAAAAAAPA/AAAAAAAA8D8AAAAAAADwPwAAAAAAAPA/AAAAAAAA8D8AAAAAAADwPwAAAAAAAPA/AAAAAAAA8D8AAAAAAAD4fwAAAAAAAPh/AAAAAAAA+H8AAAAAAAD4fwAAAAAAAPh/AAAAAAAA+H8AAAAAAAD4fwAAAAAAAPh/AAAAAAAA+H8AAAAAAAD4fwAAAAAAAPh/AAAAAAAA+H8AAAAAAAD4fwAAAAAAAPh/AAAAAAAA+H8AAAAAAAD4fwAAAAAAAPh/AAAAAAAA8D8AAAAAAAD4fwAAAAAAAPh/AAAAAAAA+H8AAAAAAAD4fwAAAAAAAPh/AAAAAAAA+H8AAAAAAAD4fwAAAAAAAPh/AAAAAAAA+H8AAAAAAAD4fwAAAAAAAPh/AAAAAAAA+H8AAAAAAAD4fwAAAAAAAPh/AAAAAAAA+H8AAAAAAAD4fwAAAAAAAPh/",
          "dtype": "f8",
          "shape": "3, 18"
         }
        },
        {
         "colorscale": [
          [
           0,
           "green"
          ],
          [
           0.5,
           "white"
          ],
          [
           1,
           "red"
          ]
         ],
         "text": [
          [
           "",
           "",
           "",
           "",
           "",
           "",
           "",
           "",
           "",
           "",
           "",
           "",
           "",
           "",
           "",
           "",
           "",
           ""
          ],
          [
           "",
           "0.069<br>± 0.013",
           "0.052<br>± 0.009",
           "0.030<br>± 0.004",
           "0.014<br>± 0.004",
           "0.006<br>± 0.002",
           "0.002<br>± 0.002",
           "0.001<br>± 0.002",
           "0.000<br>± 0.001",
           "0.000<br>± 0.001",
           "0.001<br>± 0.002",
           "0.000<br>± 0.001",
           "0.000<br>± 0.000",
           "0.000<br>± 0.000",
           "0.000<br>± 0.001",
           "-0.000<br>± 0.000",
           "0.000<br>± 0.000",
           "0.000<br>± 0.001"
          ],
          [
           "",
           "0.069<br>± 0.013",
           "0.051<br>± 0.009",
           "0.030<br>± 0.004",
           "0.014<br>± 0.004",
           "0.006<br>± 0.002",
           "0.002<br>± 0.002",
           "0.001<br>± 0.002",
           "0.000<br>± 0.000",
           "0.000<br>± 0.001",
           "0.000<br>± 0.002",
           "0.000<br>± 0.001",
           "0.000<br>± 0.000",
           "-0.000<br>± 0.001",
           "0.000<br>± 0.001",
           "-0.000<br>± 0.000",
           "0.000<br>± 0.000",
           "0.000<br>± 0.001"
          ]
         ],
         "texttemplate": "%{text}",
         "type": "heatmap",
         "x": [
          6,
          7,
          8,
          9,
          10,
          11,
          12,
          13,
          14,
          15,
          16,
          17,
          18,
          19,
          20,
          21,
          22,
          23
         ],
         "y": [
          6,
          7,
          8
         ],
         "z": {
          "bdata": "AAAAAAAA+H8AAAAAAAD4fwAAAAAAAPh/AAAAAAAA+H8AAAAAAAD4fwAAAAAAAPh/AAAAAAAA+H8AAAAAAAD4fwAAAAAAAPh/AAAAAAAA+H8AAAAAAAD4fwAAAAAAAPh/AAAAAAAA+H8AAAAAAAD4fwAAAAAAAPh/AAAAAAAA+H8AAAAAAAD4fwAAAAAAAPh/AAAAAAAA+H8YZE5SEbixP5AuAwuJlqo/ACrT4t55nj+A7T9fV42MPwDbf76uGnc/ANJlYCHRXz8AGJiND+9OPwDgYzY+vCo/AABfTlJRMT8AlJmND89BPwAAMgMLqSw/AMBiBhYSFT8AQDqmxR0JPwBoyrS4+zA/AMCzWTrKDr8AoDPT4sIRPwDQlGlxLyM/AAAAAAAA+H8YZE5SEbixPzDInKQi8Kk/oMNsfHiTnj+A7T9fV42MPwCoTIt7J3c/ADrMxoc3Xz8AjP/zddVOPwDQxpykIio/AKgrGx9eMj8AqADo62o/PwCw/s/XlSw/AMAyc5IKAz8AQCPAoAgMvwAQMAMLrS8/AMCzWTrKDr8AYDHT4qIRPwCwXza+myI/",
          "dtype": "f8",
          "shape": "3, 18"
         },
         "zmax": 0.11218364962987015,
         "zmid": 0,
         "zmin": -0.11218364962987015
        }
       ],
       "layout": {
        "annotations": [
         {
          "font": {
           "color": "black"
          },
          "showarrow": false,
          "text": "bfloat16",
          "x": 7,
          "xanchor": "center",
          "y": 8.25,
          "yanchor": "bottom"
         },
         {
          "font": {
           "color": "black"
          },
          "showarrow": false,
          "text": "float32",
          "x": 23,
          "xanchor": "center",
          "y": 8.25,
          "yanchor": "bottom"
         }
        ],
        "height": 400,
        "template": {
         "data": {
          "bar": [
           {
            "error_x": {
             "color": "#2a3f5f"
            },
            "error_y": {
             "color": "#2a3f5f"
            },
            "marker": {
             "line": {
              "color": "#E5ECF6",
              "width": 0.5
             },
             "pattern": {
              "fillmode": "overlay",
              "size": 10,
              "solidity": 0.2
             }
            },
            "type": "bar"
           }
          ],
          "barpolar": [
           {
            "marker": {
             "line": {
              "color": "#E5ECF6",
              "width": 0.5
             },
             "pattern": {
              "fillmode": "overlay",
              "size": 10,
              "solidity": 0.2
             }
            },
            "type": "barpolar"
           }
          ],
          "carpet": [
           {
            "aaxis": {
             "endlinecolor": "#2a3f5f",
             "gridcolor": "white",
             "linecolor": "white",
             "minorgridcolor": "white",
             "startlinecolor": "#2a3f5f"
            },
            "baxis": {
             "endlinecolor": "#2a3f5f",
             "gridcolor": "white",
             "linecolor": "white",
             "minorgridcolor": "white",
             "startlinecolor": "#2a3f5f"
            },
            "type": "carpet"
           }
          ],
          "choropleth": [
           {
            "colorbar": {
             "outlinewidth": 0,
             "ticks": ""
            },
            "type": "choropleth"
           }
          ],
          "contour": [
           {
            "colorbar": {
             "outlinewidth": 0,
             "ticks": ""
            },
            "colorscale": [
             [
              0,
              "#0d0887"
             ],
             [
              0.1111111111111111,
              "#46039f"
             ],
             [
              0.2222222222222222,
              "#7201a8"
             ],
             [
              0.3333333333333333,
              "#9c179e"
             ],
             [
              0.4444444444444444,
              "#bd3786"
             ],
             [
              0.5555555555555556,
              "#d8576b"
             ],
             [
              0.6666666666666666,
              "#ed7953"
             ],
             [
              0.7777777777777778,
              "#fb9f3a"
             ],
             [
              0.8888888888888888,
              "#fdca26"
             ],
             [
              1,
              "#f0f921"
             ]
            ],
            "type": "contour"
           }
          ],
          "contourcarpet": [
           {
            "colorbar": {
             "outlinewidth": 0,
             "ticks": ""
            },
            "type": "contourcarpet"
           }
          ],
          "heatmap": [
           {
            "colorbar": {
             "outlinewidth": 0,
             "ticks": ""
            },
            "colorscale": [
             [
              0,
              "#0d0887"
             ],
             [
              0.1111111111111111,
              "#46039f"
             ],
             [
              0.2222222222222222,
              "#7201a8"
             ],
             [
              0.3333333333333333,
              "#9c179e"
             ],
             [
              0.4444444444444444,
              "#bd3786"
             ],
             [
              0.5555555555555556,
              "#d8576b"
             ],
             [
              0.6666666666666666,
              "#ed7953"
             ],
             [
              0.7777777777777778,
              "#fb9f3a"
             ],
             [
              0.8888888888888888,
              "#fdca26"
             ],
             [
              1,
              "#f0f921"
             ]
            ],
            "type": "heatmap"
           }
          ],
          "histogram": [
           {
            "marker": {
             "pattern": {
              "fillmode": "overlay",
              "size": 10,
              "solidity": 0.2
             }
            },
            "type": "histogram"
           }
          ],
          "histogram2d": [
           {
            "colorbar": {
             "outlinewidth": 0,
             "ticks": ""
            },
            "colorscale": [
             [
              0,
              "#0d0887"
             ],
             [
              0.1111111111111111,
              "#46039f"
             ],
             [
              0.2222222222222222,
              "#7201a8"
             ],
             [
              0.3333333333333333,
              "#9c179e"
             ],
             [
              0.4444444444444444,
              "#bd3786"
             ],
             [
              0.5555555555555556,
              "#d8576b"
             ],
             [
              0.6666666666666666,
              "#ed7953"
             ],
             [
              0.7777777777777778,
              "#fb9f3a"
             ],
             [
              0.8888888888888888,
              "#fdca26"
             ],
             [
              1,
              "#f0f921"
             ]
            ],
            "type": "histogram2d"
           }
          ],
          "histogram2dcontour": [
           {
            "colorbar": {
             "outlinewidth": 0,
             "ticks": ""
            },
            "colorscale": [
             [
              0,
              "#0d0887"
             ],
             [
              0.1111111111111111,
              "#46039f"
             ],
             [
              0.2222222222222222,
              "#7201a8"
             ],
             [
              0.3333333333333333,
              "#9c179e"
             ],
             [
              0.4444444444444444,
              "#bd3786"
             ],
             [
              0.5555555555555556,
              "#d8576b"
             ],
             [
              0.6666666666666666,
              "#ed7953"
             ],
             [
              0.7777777777777778,
              "#fb9f3a"
             ],
             [
              0.8888888888888888,
              "#fdca26"
             ],
             [
              1,
              "#f0f921"
             ]
            ],
            "type": "histogram2dcontour"
           }
          ],
          "mesh3d": [
           {
            "colorbar": {
             "outlinewidth": 0,
             "ticks": ""
            },
            "type": "mesh3d"
           }
          ],
          "parcoords": [
           {
            "line": {
             "colorbar": {
              "outlinewidth": 0,
              "ticks": ""
             }
            },
            "type": "parcoords"
           }
          ],
          "pie": [
           {
            "automargin": true,
            "type": "pie"
           }
          ],
          "scatter": [
           {
            "fillpattern": {
             "fillmode": "overlay",
             "size": 10,
             "solidity": 0.2
            },
            "type": "scatter"
           }
          ],
          "scatter3d": [
           {
            "line": {
             "colorbar": {
              "outlinewidth": 0,
              "ticks": ""
             }
            },
            "marker": {
             "colorbar": {
              "outlinewidth": 0,
              "ticks": ""
             }
            },
            "type": "scatter3d"
           }
          ],
          "scattercarpet": [
           {
            "marker": {
             "colorbar": {
              "outlinewidth": 0,
              "ticks": ""
             }
            },
            "type": "scattercarpet"
           }
          ],
          "scattergeo": [
           {
            "marker": {
             "colorbar": {
              "outlinewidth": 0,
              "ticks": ""
             }
            },
            "type": "scattergeo"
           }
          ],
          "scattergl": [
           {
            "marker": {
             "colorbar": {
              "outlinewidth": 0,
              "ticks": ""
             }
            },
            "type": "scattergl"
           }
          ],
          "scattermap": [
           {
            "marker": {
             "colorbar": {
              "outlinewidth": 0,
              "ticks": ""
             }
            },
            "type": "scattermap"
           }
          ],
          "scattermapbox": [
           {
            "marker": {
             "colorbar": {
              "outlinewidth": 0,
              "ticks": ""
             }
            },
            "type": "scattermapbox"
           }
          ],
          "scatterpolar": [
           {
            "marker": {
             "colorbar": {
              "outlinewidth": 0,
              "ticks": ""
             }
            },
            "type": "scatterpolar"
           }
          ],
          "scatterpolargl": [
           {
            "marker": {
             "colorbar": {
              "outlinewidth": 0,
              "ticks": ""
             }
            },
            "type": "scatterpolargl"
           }
          ],
          "scatterternary": [
           {
            "marker": {
             "colorbar": {
              "outlinewidth": 0,
              "ticks": ""
             }
            },
            "type": "scatterternary"
           }
          ],
          "surface": [
           {
            "colorbar": {
             "outlinewidth": 0,
             "ticks": ""
            },
            "colorscale": [
             [
              0,
              "#0d0887"
             ],
             [
              0.1111111111111111,
              "#46039f"
             ],
             [
              0.2222222222222222,
              "#7201a8"
             ],
             [
              0.3333333333333333,
              "#9c179e"
             ],
             [
              0.4444444444444444,
              "#bd3786"
             ],
             [
              0.5555555555555556,
              "#d8576b"
             ],
             [
              0.6666666666666666,
              "#ed7953"
             ],
             [
              0.7777777777777778,
              "#fb9f3a"
             ],
             [
              0.8888888888888888,
              "#fdca26"
             ],
             [
              1,
              "#f0f921"
             ]
            ],
            "type": "surface"
           }
          ],
          "table": [
           {
            "cells": {
             "fill": {
              "color": "#EBF0F8"
             },
             "line": {
              "color": "white"
             }
            },
            "header": {
             "fill": {
              "color": "#C8D4E3"
             },
             "line": {
              "color": "white"
             }
            },
            "type": "table"
           }
          ]
         },
         "layout": {
          "annotationdefaults": {
           "arrowcolor": "#2a3f5f",
           "arrowhead": 0,
           "arrowwidth": 1
          },
          "autotypenumbers": "strict",
          "coloraxis": {
           "colorbar": {
            "outlinewidth": 0,
            "ticks": ""
           }
          },
          "colorscale": {
           "diverging": [
            [
             0,
             "#8e0152"
            ],
            [
             0.1,
             "#c51b7d"
            ],
            [
             0.2,
             "#de77ae"
            ],
            [
             0.3,
             "#f1b6da"
            ],
            [
             0.4,
             "#fde0ef"
            ],
            [
             0.5,
             "#f7f7f7"
            ],
            [
             0.6,
             "#e6f5d0"
            ],
            [
             0.7,
             "#b8e186"
            ],
            [
             0.8,
             "#7fbc41"
            ],
            [
             0.9,
             "#4d9221"
            ],
            [
             1,
             "#276419"
            ]
           ],
           "sequential": [
            [
             0,
             "#0d0887"
            ],
            [
             0.1111111111111111,
             "#46039f"
            ],
            [
             0.2222222222222222,
             "#7201a8"
            ],
            [
             0.3333333333333333,
             "#9c179e"
            ],
            [
             0.4444444444444444,
             "#bd3786"
            ],
            [
             0.5555555555555556,
             "#d8576b"
            ],
            [
             0.6666666666666666,
             "#ed7953"
            ],
            [
             0.7777777777777778,
             "#fb9f3a"
            ],
            [
             0.8888888888888888,
             "#fdca26"
            ],
            [
             1,
             "#f0f921"
            ]
           ],
           "sequentialminus": [
            [
             0,
             "#0d0887"
            ],
            [
             0.1111111111111111,
             "#46039f"
            ],
            [
             0.2222222222222222,
             "#7201a8"
            ],
            [
             0.3333333333333333,
             "#9c179e"
            ],
            [
             0.4444444444444444,
             "#bd3786"
            ],
            [
             0.5555555555555556,
             "#d8576b"
            ],
            [
             0.6666666666666666,
             "#ed7953"
            ],
            [
             0.7777777777777778,
             "#fb9f3a"
            ],
            [
             0.8888888888888888,
             "#fdca26"
            ],
            [
             1,
             "#f0f921"
            ]
           ]
          },
          "colorway": [
           "#636efa",
           "#EF553B",
           "#00cc96",
           "#ab63fa",
           "#FFA15A",
           "#19d3f3",
           "#FF6692",
           "#B6E880",
           "#FF97FF",
           "#FECB52"
          ],
          "font": {
           "color": "#2a3f5f"
          },
          "geo": {
           "bgcolor": "white",
           "lakecolor": "white",
           "landcolor": "#E5ECF6",
           "showlakes": true,
           "showland": true,
           "subunitcolor": "white"
          },
          "hoverlabel": {
           "align": "left"
          },
          "hovermode": "closest",
          "mapbox": {
           "style": "light"
          },
          "paper_bgcolor": "white",
          "plot_bgcolor": "#E5ECF6",
          "polar": {
           "angularaxis": {
            "gridcolor": "white",
            "linecolor": "white",
            "ticks": ""
           },
           "bgcolor": "#E5ECF6",
           "radialaxis": {
            "gridcolor": "white",
            "linecolor": "white",
            "ticks": ""
           }
          },
          "scene": {
           "xaxis": {
            "backgroundcolor": "#E5ECF6",
            "gridcolor": "white",
            "gridwidth": 2,
            "linecolor": "white",
            "showbackground": true,
            "ticks": "",
            "zerolinecolor": "white"
           },
           "yaxis": {
            "backgroundcolor": "#E5ECF6",
            "gridcolor": "white",
            "gridwidth": 2,
            "linecolor": "white",
            "showbackground": true,
            "ticks": "",
            "zerolinecolor": "white"
           },
           "zaxis": {
            "backgroundcolor": "#E5ECF6",
            "gridcolor": "white",
            "gridwidth": 2,
            "linecolor": "white",
            "showbackground": true,
            "ticks": "",
            "zerolinecolor": "white"
           }
          },
          "shapedefaults": {
           "line": {
            "color": "#2a3f5f"
           }
          },
          "ternary": {
           "aaxis": {
            "gridcolor": "white",
            "linecolor": "white",
            "ticks": ""
           },
           "baxis": {
            "gridcolor": "white",
            "linecolor": "white",
            "ticks": ""
           },
           "bgcolor": "#E5ECF6",
           "caxis": {
            "gridcolor": "white",
            "linecolor": "white",
            "ticks": ""
           }
          },
          "title": {
           "x": 0.05
          },
          "xaxis": {
           "automargin": true,
           "gridcolor": "white",
           "linecolor": "white",
           "ticks": "",
           "title": {
            "standoff": 15
           },
           "zerolinecolor": "white",
           "zerolinewidth": 2
          },
          "yaxis": {
           "automargin": true,
           "gridcolor": "white",
           "linecolor": "white",
           "ticks": "",
           "title": {
            "standoff": 15
           },
           "zerolinecolor": "white",
           "zerolinewidth": 2
          }
         }
        },
        "title": {
         "text": "[0111] Syn (CC): Metric difference with Binary64 - Subjects mean"
        },
        "width": 1600,
        "xaxis": {
         "ticks": "outside",
         "tickvals": [
          6,
          7,
          8,
          9,
          10,
          11,
          12,
          13,
          14,
          15,
          16,
          17,
          18,
          19,
          20,
          21,
          22,
          23
         ],
         "title": {
          "text": "Precision (# of bits)"
         }
        },
        "yaxis": {
         "ticks": "outside",
         "tickvals": [
          6,
          7,
          8
         ],
         "title": {
          "text": "Range (# of bits)"
         }
        }
       }
      }
     },
     "metadata": {},
     "output_type": "display_data"
    }
   ],
   "source": [
    "import warnings\n",
    "\n",
    "warnings.filterwarnings(\"ignore\")\n",
    "\n",
    "STAGES = [(\"rigid\", \"MI\"), (\"affine\", \"MI\"), (\"syn\", \"CC\")]\n",
    "EXP_IDS = [\n",
    "    # \"0001\",\n",
    "    # \"0011\",\n",
    "    # \"0100\",\n",
    "    \"0110\",\n",
    "    \"0111\",\n",
    "    # \"1111\",\n",
    "]\n",
    "\n",
    "\n",
    "def get_experiment(df, exp_id):\n",
    "    # Always include the binary64 data format\n",
    "    if isinstance(exp_id, str):\n",
    "        exp_id = [exp_id]\n",
    "    return df[df[\"exp_id\"].isin(exp_id + [\"0000\"])]\n",
    "\n",
    "\n",
    "for stage_id, (stage_name, metric_name) in enumerate(STAGES, 1):\n",
    "    stage_metric_stats = get_stage_metric_stats(get_experiment(rv, EXP_IDS), stage_id)\n",
    "\n",
    "    for exp_id in EXP_IDS:\n",
    "        out_dir = figures / exp_id\n",
    "        exp_data = get_experiment(rv, exp_id)\n",
    "        n_subjects = exp_data[\"subject\"].nunique()\n",
    "        exp_metric_stats = get_stage_metric_stats(exp_data, stage_id)\n",
    "\n",
    "        \"\"\"Metric value\"\"\"\n",
    "        # plot_metric_value(\n",
    "        #     n_failed,\n",
    "        #     exp_metric_stats[\"worst\"],\n",
    "        #     stage_metric_stats=stage_metric_stats[\"worst\"],\n",
    "        #     title=f\"[{exp_id}] {stage_name.capitalize()} ({metric_name}): Metric value - Worst subject\",\n",
    "        #     stage_metrics=stage_metric_stats[\"raw_value\"],\n",
    "        #     n_subjects=n_subjects,\n",
    "        #     out_dir=out_dir,\n",
    "        # )\n",
    "        # plot_metric_value(\n",
    "        #     n_failed,\n",
    "        #     exp_metric_stats[\"mean\"],\n",
    "        #     stage_metric_stats=stage_metric_stats[\"mean\"],\n",
    "        #     title=f\"[{exp_id}] {stage_name.capitalize()} ({metric_name}): Metric value - Subjects mean\",\n",
    "        #     exp_metrics=exp_metric_stats[\"raw_value\"],\n",
    "        #     stage_metrics=stage_metric_stats[\"raw_value\"],\n",
    "        #     n_subjects=n_subjects,\n",
    "        #     out_dir=out_dir,\n",
    "        # )\n",
    "        # plot_metric_value(\n",
    "        #     n_failed,\n",
    "        #     exp_metric_stats[\"best\"],\n",
    "        #     stage_metric_stats=stage_metric_stats[\"best\"],\n",
    "        #     title=f\"[{exp_id}] {stage_name.capitalize()} ({metric_name}): Metric value - Subjects best\",\n",
    "        #     stage_metrics=stage_metric_stats[\"raw_value\"],\n",
    "        #     n_subjects=n_subjects,\n",
    "        # )\n",
    "\n",
    "        \"\"\"Metric difference with binary64\"\"\"\n",
    "        # plot_metric_diff(\n",
    "        #     n_failed,\n",
    "        #     exp_metric_stats[\"worst\"],\n",
    "        #     stage_metric_stats=stage_metric_stats[\"worst\"],\n",
    "        #     title=f\"[{exp_id}] {stage_name.capitalize()} ({metric_name}): Metric difference with Binary64 - Worst subject\",\n",
    "        #     stage_metrics=stage_metric_stats[\"raw_value\"],\n",
    "        #     n_subjects=n_subjects,\n",
    "        #     out_dir=out_dir,\n",
    "        # )\n",
    "        plot_metric_diff(\n",
    "            n_failed,\n",
    "            exp_metric_stats[\"mean\"],\n",
    "            stage_metric_stats=stage_metric_stats[\"mean\"],\n",
    "            title=f\"[{exp_id}] {stage_name.capitalize()} ({metric_name}): Metric difference with Binary64 - Subjects mean\",\n",
    "            exp_metrics=exp_metric_stats[\"raw_value\"],\n",
    "            stage_metrics=stage_metric_stats[\"raw_value\"],\n",
    "            n_subjects=n_subjects,\n",
    "            out_dir=out_dir,\n",
    "            save_name=f\"{stage_name}-metric_diff-mean\",\n",
    "        )\n",
    "\n",
    "        \"\"\"Metric relative difference with binary64\"\"\"\n",
    "        # plot_metric_rel(\n",
    "        #     n_failed,\n",
    "        #     exp_metric_stats[\"worst\"],\n",
    "        #     stage_metric_stats=stage_metric_stats[\"worst\"],\n",
    "        #     title=f\"[{exp_id}] {stage_name.capitalize()} ({metric_name}): Relative difference with Binary64 - Worst subject\",\n",
    "        #     stage_metrics=stage_metric_stats[\"raw_value\"],\n",
    "        #     n_subjects=n_subjects,\n",
    "        #     out_dir=out_dir,\n",
    "        # )\n",
    "        # plot_metric_rel(\n",
    "        #     n_failed,\n",
    "        #     exp_metric_stats[\"mean\"],\n",
    "        #     stage_metric_stats=stage_metric_stats[\"mean\"],\n",
    "        #     title=f\"[{exp_id}] {stage_name.capitalize()} ({metric_name}): Relative difference with Binary64 - Subjects mean\",\n",
    "        #     exp_metrics=exp_metric_stats[\"raw_value\"],\n",
    "        #     stage_metrics=stage_metric_stats[\"raw_value\"],\n",
    "        #     n_subjects=n_subjects,\n",
    "        #     out_dir=out_dir,\n",
    "        # )\n",
    "\n",
    "    # # Plot metric value and convergence value through time\n",
    "    # data_formats = [\n",
    "    #     \"r7-p8\",\n",
    "    #     \"r8-p23\",\n",
    "    #     \"binary64\",\n",
    "    # ]\n",
    "    # data = rv\n",
    "    # _make_agg_figure(\n",
    "    #     data,\n",
    "    #     y_value=\"metric\",\n",
    "    #     show=True,\n",
    "    #     data_formats=data_formats,\n",
    "    #     out_dir=out_dir,\n",
    "    #     exp_id=exp_id,\n",
    "    # )\n",
    "    # _make_agg_figure(\n",
    "    #     data,\n",
    "    #     y_value=\"convergence_value\",\n",
    "    #     y_log=True,\n",
    "    #     show=True,\n",
    "    #     data_formats=data_formats,\n",
    "    #     out_dir=out_dir,\n",
    "    #     exp_id=exp_id,\n",
    "    # )"
   ]
  },
  {
   "cell_type": "markdown",
   "metadata": {},
   "source": [
    "## SyN w/ SSIM\n"
   ]
  },
  {
   "cell_type": "code",
   "execution_count": 10,
   "metadata": {},
   "outputs": [],
   "source": [
    "from collections import defaultdict\n",
    "from pathlib import Path\n",
    "\n",
    "import nibabel as nib\n",
    "import numpy as np\n",
    "import skimage as ski\n",
    "from tqdm import tqdm\n",
    "\n",
    "moving_images = list(\n",
    "    Path(\"dataset/ds004513/derivatives/flint/antsRegistration\").rglob(\"Warped.nii.gz\")\n",
    ")"
   ]
  },
  {
   "cell_type": "code",
   "execution_count": null,
   "metadata": {},
   "outputs": [],
   "source": [
    "fixed = nib.load(\n",
    "    \"/home/mathdugre/.cache/templateflow/tpl-MNI152NLin2009cAsym/tpl-MNI152NLin2009cAsym_res-01_desc-brain_T1w.nii.gz\"\n",
    ").get_fdata()\n",
    "ssim = defaultdict(list)\n",
    "for img in tqdm(moving_images):\n",
    "    data_format = img.parent.parent.name\n",
    "    img2 = nib.load(img).get_fdata()\n",
    "    ssim[data_format].append(\n",
    "        ski.metrics.structural_similarity(fixed, img2, data_range=1)\n",
    "    )"
   ]
  },
  {
   "cell_type": "code",
   "execution_count": 30,
   "metadata": {},
   "outputs": [],
   "source": [
    "ssim_mean = dict()\n",
    "for k in ssim.keys():\n",
    "    ssim_mean[k] = -np.nanmean(ssim[k])"
   ]
  },
  {
   "cell_type": "code",
   "execution_count": null,
   "metadata": {},
   "outputs": [],
   "source": [
    "plot_metric_value(\n",
    "    n_failed,\n",
    "    ssim_mean,\n",
    "    title=\"SyN (SSIM): Metric value - Subject mean\",\n",
    "    n_subjects=n_subjects,\n",
    ")\n",
    "plot_metric_diff(\n",
    "    n_failed,\n",
    "    ssim_mean,\n",
    "    title=\"SyN (SSIM): Metric diff w/ Binary64 - Subject mean\",\n",
    "    n_subjects=n_subjects,\n",
    ")"
   ]
  },
  {
   "cell_type": "markdown",
   "metadata": {},
   "source": [
    "## SyN w/ MI\n"
   ]
  },
  {
   "cell_type": "code",
   "execution_count": null,
   "metadata": {},
   "outputs": [],
   "source": [
    "import itk\n",
    "\n",
    "fixed = itk.imread(\n",
    "    \"/home/mathdugre/.cache/templateflow/tpl-MNI152NLin2009cAsym/tpl-MNI152NLin2009cAsym_res-01_desc-brain_T1w.nii.gz\",\n",
    "    itk.D,\n",
    ")\n",
    "\n",
    "MetricType = itk.ANTSNeighborhoodCorrelationImageToImageMetricv4[\n",
    "    type(fixed), type(fixed)\n",
    "]\n",
    "\n",
    "mi = defaultdict(list)\n",
    "for img in tqdm(moving_images):\n",
    "    data_format = img.parent.parent.name\n",
    "    img2 = itk.imread(img, itk.D)\n",
    "\n",
    "    metric = MetricType.New()\n",
    "    metric.SetFixedImage(fixed)\n",
    "    metric.SetMovingImage(img2)\n",
    "\n",
    "    # Initialize the metric\n",
    "    metric.Initialize()\n",
    "\n",
    "    # Compute the similarity value\n",
    "    mi[data_format].append(metric.GetValue())"
   ]
  },
  {
   "cell_type": "code",
   "execution_count": 24,
   "metadata": {},
   "outputs": [],
   "source": [
    "mi_mean = dict()\n",
    "for k in mi.keys():\n",
    "    mi_mean[k] = np.nanmean(mi[k])"
   ]
  },
  {
   "cell_type": "code",
   "execution_count": null,
   "metadata": {},
   "outputs": [],
   "source": [
    "subjects = rv[\"subject\"].unique()\n",
    "n_subjects = rv[\"subject\"].nunique()\n",
    "\n",
    "plot_metric_value(\n",
    "    n_failed,\n",
    "    mi_mean,\n",
    "    title=\"SyN (MI): Metric value - Subject mean\",\n",
    "    n_subjects=n_subjects,\n",
    ")\n",
    "plot_metric_diff(\n",
    "    n_failed,\n",
    "    mi_mean,\n",
    "    title=\"SyN (MI): Metric diff w/ Binary64 - Subject mean\",\n",
    "    n_subjects=n_subjects,\n",
    ")"
   ]
  },
  {
   "cell_type": "markdown",
   "metadata": {},
   "source": [
    "## SyN MI (Python)\n"
   ]
  },
  {
   "cell_type": "code",
   "execution_count": 1,
   "metadata": {},
   "outputs": [],
   "source": [
    "from collections import defaultdict\n",
    "from pathlib import Path\n",
    "\n",
    "import nibabel as nib\n",
    "import numpy as np\n",
    "import skimage as ski\n",
    "from tqdm import tqdm\n",
    "\n",
    "moving_images = list(\n",
    "    Path(\"dataset/ds004513/derivatives/flint/antsRegistration\").rglob(\"Warped.nii.gz\")\n",
    ")\n",
    "\n",
    "\n",
    "def mutual_information(hgram):\n",
    "    \"\"\"Mutual information for joint histogram\"\"\"\n",
    "    # Convert bins counts to probability values\n",
    "    pxy = hgram / float(np.sum(hgram))\n",
    "    px = np.sum(pxy, axis=1)  # marginal for x over y\n",
    "    py = np.sum(pxy, axis=0)  # marginal for y over x\n",
    "    px_py = px[:, None] * py[None, :]  # Broadcast to multiply marginals\n",
    "    # Now we can do the calculation using the pxy, px_py 2D arrays\n",
    "    nzs = pxy > 0  # Only non-zero pxy values contribute to the sum\n",
    "    return np.sum(pxy[nzs] * np.log(pxy[nzs] / px_py[nzs]))"
   ]
  },
  {
   "cell_type": "code",
   "execution_count": null,
   "metadata": {},
   "outputs": [],
   "source": [
    "fixed = nib.load(\n",
    "    \"/home/mathdugre/.cache/templateflow/tpl-MNI152NLin2009cAsym/tpl-MNI152NLin2009cAsym_res-01_desc-brain_T1w.nii.gz\"\n",
    ").get_fdata()\n",
    "py_mi = defaultdict(list)\n",
    "for img in tqdm(moving_images):\n",
    "    data_format = img.parent.parent.name\n",
    "    img2 = nib.load(img).get_fdata()\n",
    "\n",
    "    hist_2d, x_edges, y_edges = np.histogram2d(fixed.ravel(), img2.ravel(), bins=32)\n",
    "\n",
    "    py_mi[data_format].append(mutual_information(hist_2d))"
   ]
  },
  {
   "cell_type": "code",
   "execution_count": 9,
   "metadata": {},
   "outputs": [],
   "source": [
    "py_mi_mean = dict()\n",
    "for k in py_mi.keys():\n",
    "    py_mi_mean[k] = -np.nanmean(py_mi[k])"
   ]
  },
  {
   "cell_type": "code",
   "execution_count": null,
   "metadata": {},
   "outputs": [],
   "source": [
    "subjects = rv[\"subject\"].unique()\n",
    "n_subjects = rv[\"subject\"].nunique()\n",
    "\n",
    "plot_metric_value(\n",
    "    n_failed,\n",
    "    py_mi_mean,\n",
    "    title=\"SyN (Python MI): Metric value - Subject mean\",\n",
    "    n_subjects=n_subjects,\n",
    ")\n",
    "plot_metric_diff(\n",
    "    n_failed,\n",
    "    py_mi_mean,\n",
    "    title=\"SyN (Python MI): Metric diff w/ Binary64 - Subject mean\",\n",
    "    n_subjects=n_subjects,\n",
    ")"
   ]
  },
  {
   "cell_type": "markdown",
   "metadata": {},
   "source": [
    "# Thesis proposal figures\n"
   ]
  },
  {
   "cell_type": "code",
   "execution_count": null,
   "metadata": {},
   "outputs": [],
   "source": [
    "import plotly.express as px\n",
    "import plotly.graph_objects as go\n",
    "from plotly.subplots import make_subplots\n",
    "\n",
    "\n",
    "# Avoid bokeh dependency, by hardcoding the colorblind8 palette\n",
    "Colorblind8 = (\n",
    "    \"#0072B2\",\n",
    "    \"#E69F00\",\n",
    "    \"#F0E442\",\n",
    "    \"#009E73\",\n",
    "    \"#56B4E9\",\n",
    "    \"#D55E00\",\n",
    "    \"#CC79A7\",\n",
    "    \"#000000\",\n",
    ")\n",
    "\n",
    "# Creating the subplot grid with independent x-axes\n",
    "fig = make_subplots(\n",
    "    rows=3,\n",
    "    cols=4,\n",
    "    shared_xaxes=False,\n",
    "    shared_yaxes=True,\n",
    "    horizontal_spacing=0.01,\n",
    "    vertical_spacing=0.05,\n",
    ")\n",
    "\n",
    "data_format = {\"binary64\": \"float64\", \"r8-p23\": \"float32\", \"r7-p8\": \"bfloat16\"}\n",
    "max_iterations = rv.groupby([\"data_format\", \"stage\", \"level\", \"subject\"])[\n",
    "    \"iterations\"\n",
    "].max()\n",
    "\n",
    "# Loop through each level and data_format to add traces to the respective subplot\n",
    "for stage in range(1, 4):\n",
    "    for level in range(1, 5):\n",
    "        x_axis = list(data_format.values())\n",
    "        y_values = [\n",
    "            max_iterations[data_format][stage][level].values.mean()\n",
    "            for data_format in data_format.keys()\n",
    "        ]\n",
    "        y_std = [\n",
    "            max_iterations[data_format][stage][level].values.std()\n",
    "            for data_format in data_format.keys()\n",
    "        ]\n",
    "\n",
    "        fig.add_trace(\n",
    "            go.Bar(\n",
    "                x=x_axis,\n",
    "                y=y_values,\n",
    "                error_y=dict(type=\"data\", array=y_std),\n",
    "                text=[f\"{s:.1f}\" for s in y_values],\n",
    "                textposition=\"auto\",\n",
    "                marker=dict(color=Colorblind8),\n",
    "                showlegend=False,\n",
    "            ),\n",
    "            row=stage,\n",
    "            col=level,\n",
    "        )\n",
    "\n",
    "for i, sigma in enumerate(list(range(4))[::-1], 1):\n",
    "    fig.add_annotation(\n",
    "        text=f\"Sigma: {sigma}\",\n",
    "        xref=\"x domain\",\n",
    "        yref=\"y domain\",\n",
    "        x=0.5,\n",
    "        y=1.05,\n",
    "        xanchor=\"center\",\n",
    "        yanchor=\"bottom\",\n",
    "        row=1,\n",
    "        col=i,\n",
    "        showarrow=False,\n",
    "        font=dict(size=14, color=\"black\"),\n",
    "    )\n",
    "\n",
    "for i, stage in enumerate([\"Rigid\", \"Affine\", \"SyN\"], 1):\n",
    "    fig.add_annotation(\n",
    "        text=stage,\n",
    "        xref=\"x domain\",\n",
    "        yref=\"y domain\",\n",
    "        x=1.05,\n",
    "        y=0.4,\n",
    "        xanchor=\"center\",\n",
    "        yanchor=\"bottom\",\n",
    "        textangle=90,\n",
    "        row=i,\n",
    "        col=4,\n",
    "        showarrow=False,\n",
    "        font=dict(size=14, color=\"black\"),\n",
    "    )\n",
    "\n",
    "# fig.update_xaxes(title_text=\"data format\", row=3)\n",
    "# fig.update_yaxes(title_text=\"Max iterations\", col=1)\n",
    "fig.update_layout(\n",
    "    height=800,\n",
    ")\n",
    "fig.show()"
   ]
  },
  {
   "cell_type": "code",
   "execution_count": null,
   "metadata": {},
   "outputs": [],
   "source": []
  }
 ],
 "metadata": {
  "kernelspec": {
   "display_name": "fast-interpolate",
   "language": "python",
   "name": "python3"
  },
  "language_info": {
   "codemirror_mode": {
    "name": "ipython",
    "version": 3
   },
   "file_extension": ".py",
   "mimetype": "text/x-python",
   "name": "python",
   "nbconvert_exporter": "python",
   "pygments_lexer": "ipython3",
   "version": "3.12.1"
  }
 },
 "nbformat": 4,
 "nbformat_minor": 2
}
